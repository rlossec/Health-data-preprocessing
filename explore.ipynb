{
 "cells": [
  {
   "cell_type": "markdown",
   "metadata": {},
   "source": [
    "Liste des imports :"
   ]
  },
  {
   "cell_type": "code",
   "execution_count": 1,
   "metadata": {},
   "outputs": [],
   "source": [
    "import os.path \n",
    "from io import BytesIO\n",
    "from urllib.request import urlopen\n",
    "from zipfile import ZipFile\n",
    "from csv import reader\n",
    "\n",
    "import numpy as np\n",
    "import pandas as pd\n",
    "import seaborn as sns\n",
    "import matplotlib.pyplot as plt\n",
    "\n",
    "from sklearn.cluster import KMeans\n"
   ]
  },
  {
   "cell_type": "markdown",
   "metadata": {
    "tags": []
   },
   "source": [
    "# 1. Chargement des données"
   ]
  },
  {
   "cell_type": "markdown",
   "metadata": {},
   "source": [
    "Méthode pour télécharger les données si elles ne sont pas déjà téléchargées."
   ]
  },
  {
   "cell_type": "code",
   "execution_count": 2,
   "metadata": {},
   "outputs": [],
   "source": [
    "def download_data(path, filename, url):\n",
    "    csv_local_path = path + filename\n",
    "    if not os.path.isfile(csv_local_path):\n",
    "        with urlopen(url + filename + '.zip') as zip_response:\n",
    "            with ZipFile(BytesIO(zip_response.read())) as zip_file:\n",
    "                zip_file.extractall(path)\n",
    "path = 'data/'\n",
    "csv_name = 'fr.openfoodfacts.org.products.csv'\n",
    "url = 'https://s3-eu-west-1.amazonaws.com/static.oc-static.com/prod/courses/files/parcours-data-scientist/P2/'\n",
    "download_data(path, csv_name, url)"
   ]
  },
  {
   "cell_type": "code",
   "execution_count": 3,
   "metadata": {},
   "outputs": [],
   "source": [
    "csv_local_path = path + csv_name"
   ]
  },
  {
   "cell_type": "markdown",
   "metadata": {
    "tags": []
   },
   "source": [
    "## 1.1 Problèmes de lecture des données\n",
    "\n",
    "Import des données :"
   ]
  },
  {
   "cell_type": "code",
   "execution_count": 4,
   "metadata": {},
   "outputs": [],
   "source": [
    "df = pd.read_csv(csv_local_path, sep='\\t', encoding='utf-8', low_memory=False)"
   ]
  },
  {
   "cell_type": "markdown",
   "metadata": {},
   "source": [
    "On teste si la colonne code peut être transformé en entier."
   ]
  },
  {
   "cell_type": "code",
   "execution_count": 5,
   "metadata": {},
   "outputs": [
    {
     "data": {
      "text/plain": [
       "46"
      ]
     },
     "execution_count": 5,
     "metadata": {},
     "output_type": "execute_result"
    }
   ],
   "source": [
    "irregular_rows = []\n",
    "i = 0\n",
    "for code in df.code:\n",
    "    try:\n",
    "        int(code)\n",
    "    except:\n",
    "        irregular_rows.extend([i, i + 1])\n",
    "    i = i + 1\n",
    "\n",
    "len(irregular_rows)"
   ]
  },
  {
   "cell_type": "markdown",
   "metadata": {},
   "source": [
    "On détecte 23 lignes qui posent problème. Il faut maintenant pouvoir les lire.\n",
    "[Le code a été revu pour enregister les indices des lignes précédentes, on trouve donc le double.]"
   ]
  },
  {
   "cell_type": "markdown",
   "metadata": {},
   "source": [
    "Méthode pour lire des lignes choisies dans l'objectif de regarder les lignes qui posent problème."
   ]
  },
  {
   "cell_type": "code",
   "execution_count": 6,
   "metadata": {},
   "outputs": [],
   "source": [
    "def read_lines(csv_local_path, indices):\n",
    "    with open(csv_local_path, 'r', encoding='utf-8') as csv_file:\n",
    "        i = 0\n",
    "        csv_reader = reader(csv_file)\n",
    "        for row in csv_reader:\n",
    "            if i in indices:\n",
    "                print(row)\n",
    "            i += 1"
   ]
  },
  {
   "cell_type": "code",
   "execution_count": 7,
   "metadata": {},
   "outputs": [],
   "source": [
    "# read_lines(irregular_rows)"
   ]
  },
  {
   "cell_type": "markdown",
   "metadata": {},
   "source": [
    "On détecte que des saut de lignes sont effectués après la variable 'first_packaging_code_geo'. </br>\n",
    "Plusieurs produits ont donc une partie de leur données sur une ligne et l'autre partie sur la ligne suivante.</br>\n",
    "On peut essayer de supprimer les sauts de ligne dans le fichier source.</br>"
   ]
  },
  {
   "cell_type": "markdown",
   "metadata": {
    "tags": []
   },
   "source": [
    "## 1.2 Traitement du fichier source\n",
    "\n",
    "On remplace les sauts de ligne suivi d'une tabulation par une simple tabulation.</br>\n",
    "Il n'y a pas de tabulation en début de ligne donc seul les sauts de ligne mal placés vont sauter.</br>"
   ]
  },
  {
   "cell_type": "code",
   "execution_count": 8,
   "metadata": {},
   "outputs": [],
   "source": [
    "clean_name = 'clean_food_data.csv'\n",
    "clean_csv_local_path = path + clean_name\n",
    "\n",
    "if not os.path.isfile(clean_csv_local_path):\n",
    "    with open(csv_local_path, 'r', encoding='utf-8') as csv_file, open(clean_csv_local_path, 'w', encoding='utf-8') as clean_file:\n",
    "        df = csv_file.read()\n",
    "        clean_file.write(df.replace('\\n\\t', '\\t'))"
   ]
  },
  {
   "cell_type": "code",
   "execution_count": 9,
   "metadata": {},
   "outputs": [],
   "source": [
    "column_names = pd.read_csv(clean_csv_local_path, sep='\\t', encoding='utf-8', nrows=0).columns.values"
   ]
  },
  {
   "cell_type": "markdown",
   "metadata": {
    "tags": []
   },
   "source": [
    "## 1.3 Préparation du type de colonnes"
   ]
  },
  {
   "cell_type": "code",
   "execution_count": 10,
   "metadata": {},
   "outputs": [],
   "source": [
    "columns_dtype = {}\n",
    "for column in column_names:\n",
    "    if column.endswith('_100g'):\n",
    "        columns_dtype[column] = 'float'\n",
    "    elif column.endswith(('_n', '_t')):\n",
    "        columns_dtype[column] = 'int64'\n",
    "    else:\n",
    "        columns_dtype[column] = 'str'"
   ]
  },
  {
   "cell_type": "markdown",
   "metadata": {},
   "source": [
    "Certaines colonnes de nombres entiers posent problème dans la lecture des NaN. On enlève leur dtype et on le traitera une fois les NaN supprimées."
   ]
  },
  {
   "cell_type": "code",
   "execution_count": 11,
   "metadata": {},
   "outputs": [],
   "source": [
    "int_columns = {'additives_n', 'ingredients_from_palm_oil_n', 'ingredients_that_may_be_from_palm_oil_n'}\n",
    "\n",
    "del columns_dtype['additives_n']\n",
    "del columns_dtype['ingredients_from_palm_oil_n']\n",
    "del columns_dtype['ingredients_that_may_be_from_palm_oil_n']"
   ]
  },
  {
   "cell_type": "code",
   "execution_count": 12,
   "metadata": {},
   "outputs": [],
   "source": [
    "df = pd.read_csv(clean_csv_local_path, sep='\\t', encoding='utf-8', dtype=columns_dtype)"
   ]
  },
  {
   "cell_type": "code",
   "execution_count": 13,
   "metadata": {},
   "outputs": [
    {
     "data": {
      "text/plain": [
       "(320749, 162)"
      ]
     },
     "execution_count": 13,
     "metadata": {},
     "output_type": "execute_result"
    }
   ],
   "source": [
    "df.shape"
   ]
  },
  {
   "cell_type": "code",
   "execution_count": 14,
   "metadata": {},
   "outputs": [
    {
     "data": {
      "text/plain": [
       "float64    102\n",
       "object      58\n",
       "int64        2\n",
       "dtype: int64"
      ]
     },
     "execution_count": 14,
     "metadata": {},
     "output_type": "execute_result"
    }
   ],
   "source": [
    "df.dtypes.value_counts()"
   ]
  },
  {
   "cell_type": "code",
   "execution_count": 15,
   "metadata": {},
   "outputs": [
    {
     "data": {
      "text/html": [
       "<div>\n",
       "<style scoped>\n",
       "    .dataframe tbody tr th:only-of-type {\n",
       "        vertical-align: middle;\n",
       "    }\n",
       "\n",
       "    .dataframe tbody tr th {\n",
       "        vertical-align: top;\n",
       "    }\n",
       "\n",
       "    .dataframe thead th {\n",
       "        text-align: right;\n",
       "    }\n",
       "</style>\n",
       "<table border=\"1\" class=\"dataframe\">\n",
       "  <thead>\n",
       "    <tr style=\"text-align: right;\">\n",
       "      <th></th>\n",
       "      <th>code</th>\n",
       "      <th>url</th>\n",
       "      <th>creator</th>\n",
       "      <th>created_t</th>\n",
       "      <th>created_datetime</th>\n",
       "      <th>last_modified_t</th>\n",
       "      <th>last_modified_datetime</th>\n",
       "      <th>product_name</th>\n",
       "      <th>generic_name</th>\n",
       "      <th>quantity</th>\n",
       "      <th>...</th>\n",
       "      <th>ph_100g</th>\n",
       "      <th>fruits-vegetables-nuts_100g</th>\n",
       "      <th>collagen-meat-protein-ratio_100g</th>\n",
       "      <th>cocoa_100g</th>\n",
       "      <th>chlorophyl_100g</th>\n",
       "      <th>carbon-footprint_100g</th>\n",
       "      <th>nutrition-score-fr_100g</th>\n",
       "      <th>nutrition-score-uk_100g</th>\n",
       "      <th>glycemic-index_100g</th>\n",
       "      <th>water-hardness_100g</th>\n",
       "    </tr>\n",
       "  </thead>\n",
       "  <tbody>\n",
       "    <tr>\n",
       "      <th>0</th>\n",
       "      <td>0000000003087</td>\n",
       "      <td>http://world-fr.openfoodfacts.org/produit/0000...</td>\n",
       "      <td>openfoodfacts-contributors</td>\n",
       "      <td>1474103866</td>\n",
       "      <td>2016-09-17T09:17:46Z</td>\n",
       "      <td>1474103893</td>\n",
       "      <td>2016-09-17T09:18:13Z</td>\n",
       "      <td>Farine de blé noir</td>\n",
       "      <td>NaN</td>\n",
       "      <td>1kg</td>\n",
       "      <td>...</td>\n",
       "      <td>NaN</td>\n",
       "      <td>NaN</td>\n",
       "      <td>NaN</td>\n",
       "      <td>NaN</td>\n",
       "      <td>NaN</td>\n",
       "      <td>NaN</td>\n",
       "      <td>NaN</td>\n",
       "      <td>NaN</td>\n",
       "      <td>NaN</td>\n",
       "      <td>NaN</td>\n",
       "    </tr>\n",
       "    <tr>\n",
       "      <th>1</th>\n",
       "      <td>0000000004530</td>\n",
       "      <td>http://world-fr.openfoodfacts.org/produit/0000...</td>\n",
       "      <td>usda-ndb-import</td>\n",
       "      <td>1489069957</td>\n",
       "      <td>2017-03-09T14:32:37Z</td>\n",
       "      <td>1489069957</td>\n",
       "      <td>2017-03-09T14:32:37Z</td>\n",
       "      <td>Banana Chips Sweetened (Whole)</td>\n",
       "      <td>NaN</td>\n",
       "      <td>NaN</td>\n",
       "      <td>...</td>\n",
       "      <td>NaN</td>\n",
       "      <td>NaN</td>\n",
       "      <td>NaN</td>\n",
       "      <td>NaN</td>\n",
       "      <td>NaN</td>\n",
       "      <td>NaN</td>\n",
       "      <td>14.0</td>\n",
       "      <td>14.0</td>\n",
       "      <td>NaN</td>\n",
       "      <td>NaN</td>\n",
       "    </tr>\n",
       "    <tr>\n",
       "      <th>2</th>\n",
       "      <td>0000000004559</td>\n",
       "      <td>http://world-fr.openfoodfacts.org/produit/0000...</td>\n",
       "      <td>usda-ndb-import</td>\n",
       "      <td>1489069957</td>\n",
       "      <td>2017-03-09T14:32:37Z</td>\n",
       "      <td>1489069957</td>\n",
       "      <td>2017-03-09T14:32:37Z</td>\n",
       "      <td>Peanuts</td>\n",
       "      <td>NaN</td>\n",
       "      <td>NaN</td>\n",
       "      <td>...</td>\n",
       "      <td>NaN</td>\n",
       "      <td>NaN</td>\n",
       "      <td>NaN</td>\n",
       "      <td>NaN</td>\n",
       "      <td>NaN</td>\n",
       "      <td>NaN</td>\n",
       "      <td>0.0</td>\n",
       "      <td>0.0</td>\n",
       "      <td>NaN</td>\n",
       "      <td>NaN</td>\n",
       "    </tr>\n",
       "    <tr>\n",
       "      <th>3</th>\n",
       "      <td>0000000016087</td>\n",
       "      <td>http://world-fr.openfoodfacts.org/produit/0000...</td>\n",
       "      <td>usda-ndb-import</td>\n",
       "      <td>1489055731</td>\n",
       "      <td>2017-03-09T10:35:31Z</td>\n",
       "      <td>1489055731</td>\n",
       "      <td>2017-03-09T10:35:31Z</td>\n",
       "      <td>Organic Salted Nut Mix</td>\n",
       "      <td>NaN</td>\n",
       "      <td>NaN</td>\n",
       "      <td>...</td>\n",
       "      <td>NaN</td>\n",
       "      <td>NaN</td>\n",
       "      <td>NaN</td>\n",
       "      <td>NaN</td>\n",
       "      <td>NaN</td>\n",
       "      <td>NaN</td>\n",
       "      <td>12.0</td>\n",
       "      <td>12.0</td>\n",
       "      <td>NaN</td>\n",
       "      <td>NaN</td>\n",
       "    </tr>\n",
       "    <tr>\n",
       "      <th>4</th>\n",
       "      <td>0000000016094</td>\n",
       "      <td>http://world-fr.openfoodfacts.org/produit/0000...</td>\n",
       "      <td>usda-ndb-import</td>\n",
       "      <td>1489055653</td>\n",
       "      <td>2017-03-09T10:34:13Z</td>\n",
       "      <td>1489055653</td>\n",
       "      <td>2017-03-09T10:34:13Z</td>\n",
       "      <td>Organic Polenta</td>\n",
       "      <td>NaN</td>\n",
       "      <td>NaN</td>\n",
       "      <td>...</td>\n",
       "      <td>NaN</td>\n",
       "      <td>NaN</td>\n",
       "      <td>NaN</td>\n",
       "      <td>NaN</td>\n",
       "      <td>NaN</td>\n",
       "      <td>NaN</td>\n",
       "      <td>NaN</td>\n",
       "      <td>NaN</td>\n",
       "      <td>NaN</td>\n",
       "      <td>NaN</td>\n",
       "    </tr>\n",
       "  </tbody>\n",
       "</table>\n",
       "<p>5 rows × 162 columns</p>\n",
       "</div>"
      ],
      "text/plain": [
       "            code                                                url  \\\n",
       "0  0000000003087  http://world-fr.openfoodfacts.org/produit/0000...   \n",
       "1  0000000004530  http://world-fr.openfoodfacts.org/produit/0000...   \n",
       "2  0000000004559  http://world-fr.openfoodfacts.org/produit/0000...   \n",
       "3  0000000016087  http://world-fr.openfoodfacts.org/produit/0000...   \n",
       "4  0000000016094  http://world-fr.openfoodfacts.org/produit/0000...   \n",
       "\n",
       "                      creator   created_t      created_datetime  \\\n",
       "0  openfoodfacts-contributors  1474103866  2016-09-17T09:17:46Z   \n",
       "1             usda-ndb-import  1489069957  2017-03-09T14:32:37Z   \n",
       "2             usda-ndb-import  1489069957  2017-03-09T14:32:37Z   \n",
       "3             usda-ndb-import  1489055731  2017-03-09T10:35:31Z   \n",
       "4             usda-ndb-import  1489055653  2017-03-09T10:34:13Z   \n",
       "\n",
       "   last_modified_t last_modified_datetime                    product_name  \\\n",
       "0       1474103893   2016-09-17T09:18:13Z              Farine de blé noir   \n",
       "1       1489069957   2017-03-09T14:32:37Z  Banana Chips Sweetened (Whole)   \n",
       "2       1489069957   2017-03-09T14:32:37Z                         Peanuts   \n",
       "3       1489055731   2017-03-09T10:35:31Z          Organic Salted Nut Mix   \n",
       "4       1489055653   2017-03-09T10:34:13Z                 Organic Polenta   \n",
       "\n",
       "  generic_name quantity  ... ph_100g fruits-vegetables-nuts_100g  \\\n",
       "0          NaN      1kg  ...     NaN                         NaN   \n",
       "1          NaN      NaN  ...     NaN                         NaN   \n",
       "2          NaN      NaN  ...     NaN                         NaN   \n",
       "3          NaN      NaN  ...     NaN                         NaN   \n",
       "4          NaN      NaN  ...     NaN                         NaN   \n",
       "\n",
       "  collagen-meat-protein-ratio_100g cocoa_100g chlorophyl_100g  \\\n",
       "0                              NaN        NaN             NaN   \n",
       "1                              NaN        NaN             NaN   \n",
       "2                              NaN        NaN             NaN   \n",
       "3                              NaN        NaN             NaN   \n",
       "4                              NaN        NaN             NaN   \n",
       "\n",
       "  carbon-footprint_100g nutrition-score-fr_100g nutrition-score-uk_100g  \\\n",
       "0                   NaN                     NaN                     NaN   \n",
       "1                   NaN                    14.0                    14.0   \n",
       "2                   NaN                     0.0                     0.0   \n",
       "3                   NaN                    12.0                    12.0   \n",
       "4                   NaN                     NaN                     NaN   \n",
       "\n",
       "  glycemic-index_100g water-hardness_100g  \n",
       "0                 NaN                 NaN  \n",
       "1                 NaN                 NaN  \n",
       "2                 NaN                 NaN  \n",
       "3                 NaN                 NaN  \n",
       "4                 NaN                 NaN  \n",
       "\n",
       "[5 rows x 162 columns]"
      ]
     },
     "execution_count": 15,
     "metadata": {},
     "output_type": "execute_result"
    }
   ],
   "source": [
    "df.head()"
   ]
  },
  {
   "cell_type": "markdown",
   "metadata": {},
   "source": [
    "# 2. Exploration"
   ]
  },
  {
   "cell_type": "markdown",
   "metadata": {},
   "source": [
    "On renomme plusieurs colonnes pour avoir plus de possibilité avec Python ou pour simplifier leur écriture."
   ]
  },
  {
   "cell_type": "code",
   "execution_count": 16,
   "metadata": {},
   "outputs": [],
   "source": [
    "new_names = {\n",
    "    'saturated-fat_100g': 'saturated_fat_100g',\n",
    "    'fruits-vegetables-nuts_100g': 'fruits_vegetables_nuts_100g',\n",
    "    'monounsaturated-fat_100g': 'monounsaturated_fat_100g',\n",
    "    'polyunsaturated-fat_100g': 'polyunsaturated_fat_100g',\n",
    "    'trans-fat_100g' : 'trans_fat_100g',\n",
    "    'vitamin-a_100g' : 'vitamin_a_100g',\n",
    "    'vitamin-d_100g' : 'vitamin_d_100g',\n",
    "    'vitamin-c_100g' : 'vitamin_c_100g',\n",
    "    'vitamin-b1_100g' : 'vitamin_b1_100g',\n",
    "    'vitamin-b2_100g' : 'vitamin_b2_100g',\n",
    "    'vitamin-pp_100g' : 'vitamin_pp_100g',\n",
    "    'vitamin-b6_100g' : 'vitamin_b6_100g',\n",
    "    'vitamin-b9_100g' : 'vitamin_b9_100g',\n",
    "    'vitamin-b12_100g' : 'vitamin_b12_100g',\n",
    "    'nutrition-score-fr_100g': 'nutrition_score_fr_100g',\n",
    "    'nutrition-score-uk_100g': 'nutrition_score_uk_100g',\n",
    "    'ingredients_from_palm_oil_n': 'palm_oil_n',\n",
    "    'ingredients_that_may_be_from_palm_oil_n': 'may_be_palm_oil_n',\n",
    "    }\n",
    "df.rename(columns=new_names, inplace=True)"
   ]
  },
  {
   "cell_type": "markdown",
   "metadata": {
    "jp-MarkdownHeadingCollapsed": true,
    "tags": []
   },
   "source": [
    "## 1. Quelques Méthodes\n",
    "\n",
    "On définit des méthodes pour \n",
    "1. Calculer le pourcentage de NaN,\n",
    "2. Supprimer les colonnes trop remplies de NaN selon une limite que l'on peut ajuster,\n",
    "3. Présenter la répartition des valeurs prises pour chaque variable qualitative spécifiée."
   ]
  },
  {
   "cell_type": "code",
   "execution_count": 17,
   "metadata": {},
   "outputs": [],
   "source": [
    "def evaluate_nan_percentage(serie):\n",
    "    return serie.isna().sum()/serie.size"
   ]
  },
  {
   "cell_type": "code",
   "execution_count": 18,
   "metadata": {},
   "outputs": [],
   "source": [
    "def describe_qualitative_columns(dataframe, columns, top=10, dropna=False):\n",
    "    print(35 * '-'+ 'Pourcentage de NaN' + 35 * '-')\n",
    "    print(dataframe[columns].isna().sum() / dataframe.shape[0])\n",
    "    print(30 * '-'+ 'Compte des valeurs par variable' + 30 * '-')\n",
    "    for column in columns:\n",
    "        print((50 - len(column)) * '-'+ column + (50 - len(column)) * '-')\n",
    "        if len(dataframe[column].value_counts(dropna=dropna)) > top:\n",
    "            print(dataframe[column].value_counts(dropna=dropna)[:top])\n",
    "        else:\n",
    "            print(dataframe[column].value_counts(dropna=dropna))\n"
   ]
  },
  {
   "cell_type": "markdown",
   "metadata": {
    "tags": []
   },
   "source": [
    "### Méthode pour éliminer les colonnes vides"
   ]
  },
  {
   "cell_type": "code",
   "execution_count": 19,
   "metadata": {},
   "outputs": [],
   "source": [
    "def drop_nan_columns(dataframe, nan_percentage_limit, exceptions=[]):\n",
    "    \"\"\"\n",
    "    Determine which columns has too many NaN values.\n",
    "    Then it drop the given columns from the dataframe.\n",
    "    \"\"\"\n",
    "    dropped_columns = []\n",
    "    for column in dataframe.columns:\n",
    "        if column not in exceptions:\n",
    "            nan_percentage = evaluate_nan_percentage(dataframe[column])\n",
    "            if nan_percentage > nan_percentage_limit:\n",
    "                dropped_columns.append(column)\n",
    "    return dataframe.drop(columns=dropped_columns)"
   ]
  },
  {
   "cell_type": "markdown",
   "metadata": {},
   "source": [
    "### Méthode pour connaître les indices des NaN"
   ]
  },
  {
   "cell_type": "code",
   "execution_count": 20,
   "metadata": {},
   "outputs": [],
   "source": [
    "def nan_indices(serie):\n",
    "    return serie[serie.isna()==True].index"
   ]
  },
  {
   "cell_type": "markdown",
   "metadata": {},
   "source": [
    "### Méthode pour connaître les indices des outliers"
   ]
  },
  {
   "cell_type": "code",
   "execution_count": 21,
   "metadata": {},
   "outputs": [],
   "source": [
    "def outliers_indices(serie, inf, sup):\n",
    "    outliers = (serie[serie>sup].index).append(serie[serie<inf].index)\n",
    "    return outliers\n",
    "\n",
    "def outliers_indices_IQR(serie):\n",
    "    q75, q25 = np.percentile(serie, [75 ,25])\n",
    "    iqr = (q75 - q25) * 1.5\n",
    "    max = q75 + iqr\n",
    "    min = q25 - iqr\n",
    "    outliers = (serie[serie>max].index).append(serie[serie<min].index)\n",
    "    return outliers"
   ]
  },
  {
   "cell_type": "markdown",
   "metadata": {},
   "source": [
    "### Méthode pour supprimer les NaN, outliers, zéro"
   ]
  },
  {
   "cell_type": "code",
   "execution_count": 22,
   "metadata": {},
   "outputs": [],
   "source": [
    "def clean_outliers(serie):\n",
    "    serie = serie.dropna()\n",
    "    serie = serie.drop(outliers_indices_IQR(serie))\n",
    "    return serie\n",
    "\n",
    "def clean_zeros(serie):\n",
    "    serie = serie.dropna()\n",
    "    serie = serie.drop(serie[serie==0].index)\n",
    "    serie = serie.drop(outliers_indices_IQR(serie))\n",
    "    return serie"
   ]
  },
  {
   "cell_type": "markdown",
   "metadata": {},
   "source": [
    "### Méthode pour heatmap avec compte de NaN croissant"
   ]
  },
  {
   "cell_type": "code",
   "execution_count": 23,
   "metadata": {},
   "outputs": [],
   "source": [
    "def heatmap_nan_sorted(df, columns):\n",
    "    sorted_columns = df[columns].isna().sum().sort_values().index\n",
    "    sns.heatmap(df[sorted_columns].isna())"
   ]
  },
  {
   "cell_type": "markdown",
   "metadata": {
    "tags": []
   },
   "source": [
    "## 2.1 Détection des doublons"
   ]
  },
  {
   "cell_type": "markdown",
   "metadata": {},
   "source": [
    "Pour effectuer des modfications sur les données mais conserver la base initiale, on réalise une copie."
   ]
  },
  {
   "cell_type": "code",
   "execution_count": 24,
   "metadata": {},
   "outputs": [],
   "source": [
    "work_df = df.copy()"
   ]
  },
  {
   "cell_type": "code",
   "execution_count": 25,
   "metadata": {},
   "outputs": [
    {
     "data": {
      "text/plain": [
       "0"
      ]
     },
     "execution_count": 25,
     "metadata": {},
     "output_type": "execute_result"
    }
   ],
   "source": [
    "work_df.duplicated('code').sum()"
   ]
  },
  {
   "cell_type": "markdown",
   "metadata": {},
   "source": [
    "On ne détecte pas de doublon selon la colonne 'code'. On peut la définir comme index."
   ]
  },
  {
   "cell_type": "code",
   "execution_count": 26,
   "metadata": {},
   "outputs": [
    {
     "name": "stdout",
     "output_type": "stream",
     "text": [
      "\n"
     ]
    }
   ],
   "source": [
    "work_df.set_index('code')\n",
    "print(\"\")"
   ]
  },
  {
   "cell_type": "markdown",
   "metadata": {},
   "source": [
    "On peut supposer que si les produits sont de même composition et de même pays de vente, il s'agit de doublon."
   ]
  },
  {
   "cell_type": "code",
   "execution_count": 27,
   "metadata": {},
   "outputs": [
    {
     "data": {
      "text/plain": [
       "Index(['countries_fr', 'ingredients_text', 'allergens', 'allergens_fr',\n",
       "       'traces', 'traces_tags', 'traces_fr', 'serving_size', 'no_nutriments',\n",
       "       'additives_n',\n",
       "       ...\n",
       "       'ph_100g', 'fruits_vegetables_nuts_100g',\n",
       "       'collagen-meat-protein-ratio_100g', 'cocoa_100g', 'chlorophyl_100g',\n",
       "       'carbon-footprint_100g', 'nutrition_score_fr_100g',\n",
       "       'nutrition_score_uk_100g', 'glycemic-index_100g',\n",
       "       'water-hardness_100g'],\n",
       "      dtype='object', length=129)"
      ]
     },
     "execution_count": 27,
     "metadata": {},
     "output_type": "execute_result"
    }
   ],
   "source": [
    "work_df.columns[34:].insert(loc=0, item='countries_fr')"
   ]
  },
  {
   "cell_type": "code",
   "execution_count": 28,
   "metadata": {},
   "outputs": [
    {
     "data": {
      "text/plain": [
       "13.297313475646066"
      ]
     },
     "execution_count": 28,
     "metadata": {},
     "output_type": "execute_result"
    }
   ],
   "source": [
    "work_df[work_df.duplicated(work_df.columns[34:])].index\n",
    "len(work_df[work_df.duplicated(work_df.columns[34:])].index) * 100 / work_df.shape[0]"
   ]
  },
  {
   "cell_type": "markdown",
   "metadata": {},
   "source": [
    "Ces doublons représentent 13% des données. Le pourcentage n'est pas négligeable.  \n",
    "Pour que ces doublons ne fausse pas certaines analyse, on choisit de supprimer ces doublons sachant que l'on conserve un jeu de données de 278 000 individus."
   ]
  },
  {
   "cell_type": "code",
   "execution_count": 29,
   "metadata": {},
   "outputs": [
    {
     "data": {
      "text/plain": [
       "(278098, 162)"
      ]
     },
     "execution_count": 29,
     "metadata": {},
     "output_type": "execute_result"
    }
   ],
   "source": [
    "work_df.drop_duplicates(subset=work_df.columns[34:], inplace=True)\n",
    "work_df.shape"
   ]
  },
  {
   "cell_type": "code",
   "execution_count": 30,
   "metadata": {},
   "outputs": [
    {
     "data": {
      "text/plain": [
       "Index(['code', 'url', 'creator', 'created_t', 'created_datetime',\n",
       "       'last_modified_t', 'last_modified_datetime', 'product_name',\n",
       "       'generic_name', 'quantity',\n",
       "       ...\n",
       "       'ph_100g', 'fruits_vegetables_nuts_100g',\n",
       "       'collagen-meat-protein-ratio_100g', 'cocoa_100g', 'chlorophyl_100g',\n",
       "       'carbon-footprint_100g', 'nutrition_score_fr_100g',\n",
       "       'nutrition_score_uk_100g', 'glycemic-index_100g',\n",
       "       'water-hardness_100g'],\n",
       "      dtype='object', length=162)"
      ]
     },
     "execution_count": 30,
     "metadata": {},
     "output_type": "execute_result"
    }
   ],
   "source": [
    "work_df.columns"
   ]
  },
  {
   "cell_type": "markdown",
   "metadata": {},
   "source": [
    "1. On cible tout d'abord les colonnes assez remplies.\n",
    "2. On trie ensemble les variables redondantes pour selectionner ou recomposer de nouvelles.\n",
    "3. Enfin on passe en revue les colonnes par ordre de pertinence.  "
   ]
  },
  {
   "cell_type": "markdown",
   "metadata": {
    "tags": []
   },
   "source": [
    "## 2.2 Ciblage"
   ]
  },
  {
   "cell_type": "code",
   "execution_count": 31,
   "metadata": {},
   "outputs": [
    {
     "data": {
      "text/plain": [
       "(278098, 65)"
      ]
     },
     "execution_count": 31,
     "metadata": {},
     "output_type": "execute_result"
    }
   ],
   "source": [
    "work_df = drop_nan_columns(work_df, 0.90)\n",
    "work_df.shape"
   ]
  },
  {
   "cell_type": "markdown",
   "metadata": {},
   "source": [
    "Il reste 65 colonnes pour 278 000 individus."
   ]
  },
  {
   "cell_type": "markdown",
   "metadata": {
    "tags": []
   },
   "source": [
    "## 2.3 Tri des variables"
   ]
  },
  {
   "cell_type": "code",
   "execution_count": 32,
   "metadata": {},
   "outputs": [
    {
     "data": {
      "text/plain": [
       "Index(['code', 'url', 'creator', 'created_t', 'created_datetime',\n",
       "       'last_modified_t', 'last_modified_datetime', 'product_name',\n",
       "       'generic_name', 'quantity', 'packaging', 'packaging_tags', 'brands',\n",
       "       'brands_tags', 'categories', 'categories_tags', 'categories_fr',\n",
       "       'manufacturing_places', 'manufacturing_places_tags', 'labels',\n",
       "       'labels_tags', 'labels_fr', 'emb_codes', 'emb_codes_tags',\n",
       "       'purchase_places', 'stores', 'countries', 'countries_tags',\n",
       "       'countries_fr', 'ingredients_text', 'allergens', 'serving_size',\n",
       "       'additives_n', 'additives', 'additives_tags', 'additives_fr',\n",
       "       'palm_oil_n', 'may_be_palm_oil_n', 'nutrition_grade_fr',\n",
       "       'pnns_groups_1', 'pnns_groups_2', 'states', 'states_tags', 'states_fr',\n",
       "       'main_category', 'main_category_fr', 'image_url', 'image_small_url',\n",
       "       'energy_100g', 'fat_100g', 'saturated_fat_100g', 'trans_fat_100g',\n",
       "       'cholesterol_100g', 'carbohydrates_100g', 'sugars_100g', 'fiber_100g',\n",
       "       'proteins_100g', 'salt_100g', 'sodium_100g', 'vitamin_a_100g',\n",
       "       'vitamin_c_100g', 'calcium_100g', 'iron_100g',\n",
       "       'nutrition_score_fr_100g', 'nutrition_score_uk_100g'],\n",
       "      dtype='object')"
      ]
     },
     "execution_count": 32,
     "metadata": {},
     "output_type": "execute_result"
    }
   ],
   "source": [
    "work_df.columns"
   ]
  },
  {
   "cell_type": "markdown",
   "metadata": {},
   "source": [
    "On identifie beaucoup de colonnes de composition qui terminent par _100g.  \n",
    "On différencie la colonne energy et les colonnes nutrition-score de la majorité des colonnes qui sont en g ou ml pour 100g, 100ml.  \n",
    "Les éléments nutritionnels représentent beaucoup de colonnes, les données sont importantes pour notre objectif autour de la santé.  "
   ]
  },
  {
   "cell_type": "markdown",
   "metadata": {},
   "source": [
    "On a \n",
    "- des colonnes de score nutrition\n",
    "- des colonnes sur la composition des aliments :\n",
    "    - dont le elements_columns déjà créés\n",
    "    - dont les additives\n",
    "    - dont les allergènes\n",
    "    - dont les ingrédient avec de l'huile de palme\n",
    "    - la liste des ingrédients\n",
    "\n",
    "- des colonnes identifiant le produit,\n",
    "- des colonnes propres à la fiche d'information,\n",
    "- des colonnes autour des quantités,\n",
    "- des colonnes sur l'emballage,\n",
    "- des colonnes sur la classification,\n",
    "- des colonnes sur la localisation (vente/production)\n",
    "\n"
   ]
  },
  {
   "cell_type": "code",
   "execution_count": 33,
   "metadata": {},
   "outputs": [],
   "source": [
    "non_relevant_columns = set()\n",
    "start_work_df = work_df.copy()"
   ]
  },
  {
   "cell_type": "markdown",
   "metadata": {
    "jp-MarkdownHeadingCollapsed": true,
    "tags": []
   },
   "source": [
    "#### a) Identifiants"
   ]
  },
  {
   "cell_type": "code",
   "execution_count": 34,
   "metadata": {},
   "outputs": [],
   "source": [
    "id_columns = {'code', 'generic_name', 'product_name'}"
   ]
  },
  {
   "cell_type": "markdown",
   "metadata": {},
   "source": [
    "Ces colonnes renseigne sur le produit. On ne conserve pas ces données."
   ]
  },
  {
   "cell_type": "code",
   "execution_count": 35,
   "metadata": {},
   "outputs": [],
   "source": [
    "non_relevant_columns.update(id_columns)"
   ]
  },
  {
   "cell_type": "markdown",
   "metadata": {
    "jp-MarkdownHeadingCollapsed": true,
    "tags": []
   },
   "source": [
    "#### b) Fiche produit"
   ]
  },
  {
   "cell_type": "code",
   "execution_count": 36,
   "metadata": {},
   "outputs": [],
   "source": [
    "sheet_columns = {'url', 'creator', 'created_t', 'created_datetime',\n",
    "                 'last_modified_t', 'last_modified_datetime',\n",
    "                 'image_url', 'image_small_url',\n",
    "                 'states', 'states_tags', 'states_fr'}"
   ]
  },
  {
   "cell_type": "markdown",
   "metadata": {},
   "source": [
    "Ces colonnes nous informe sur la fiche produit, elle ne nous sont donc pas utiles."
   ]
  },
  {
   "cell_type": "code",
   "execution_count": 37,
   "metadata": {},
   "outputs": [],
   "source": [
    "non_relevant_columns.update(sheet_columns)"
   ]
  },
  {
   "cell_type": "markdown",
   "metadata": {
    "jp-MarkdownHeadingCollapsed": true,
    "tags": []
   },
   "source": [
    "#### c) Quantités"
   ]
  },
  {
   "cell_type": "code",
   "execution_count": 38,
   "metadata": {},
   "outputs": [],
   "source": [
    "quantity_columns = {'quantity','serving_size'}"
   ]
  },
  {
   "cell_type": "code",
   "execution_count": 39,
   "metadata": {},
   "outputs": [
    {
     "name": "stdout",
     "output_type": "stream",
     "text": [
      "-----------------------------------Pourcentage de NaN-----------------------------------\n",
      "quantity        0.666689\n",
      "serving_size    0.299596\n",
      "dtype: float64\n",
      "------------------------------Compte des valeurs par variable------------------------------\n",
      "------------------------------------------quantity------------------------------------------\n",
      "NaN      185405\n",
      "500 g      4272\n",
      "200 g      3795\n",
      "250 g      3620\n",
      "100 g      2843\n",
      "400 g      2329\n",
      "300 g      2325\n",
      "150 g      2179\n",
      "1 l        1545\n",
      "1 kg       1463\n",
      "Name: quantity, dtype: int64\n",
      "--------------------------------------serving_size--------------------------------------\n",
      "NaN                 83317\n",
      "240 ml (8 fl oz)     4686\n",
      "28 g (1 oz)          4675\n",
      "28 g (1 ONZ)         3484\n",
      "30 g (2 Tbsp)        2675\n",
      "30 g                 2583\n",
      "15 ml (1 Tbsp)       2265\n",
      "30 g (0.25 cup)      1850\n",
      "100 g                1645\n",
      "240 ml (1 cup)       1624\n",
      "Name: serving_size, dtype: int64\n"
     ]
    }
   ],
   "source": [
    "describe_qualitative_columns(start_work_df, quantity_columns)"
   ]
  },
  {
   "cell_type": "markdown",
   "metadata": {},
   "source": [
    "Les deux données sont proches, l'une est le poids total, l'autre la part servie.  \n",
    "Elle sont néanmoins qualitatives car l'unité n'est pas unique.  \n",
    "Le traitement pour les rendre quantitatives semble complexe:\n",
    " - il y a deux grandeurs selon s'il s'agit d'un liquide ou non (Volume ou masse).\n",
    " - dans une même grandeur, pas d'unité unique\n",
    " - la donnée peut contenir le détail des masses des sous emballage.  \n",
    " \n",
    "La donnée 'serving_size' est plutôt bien renseignée (30% de NaN).\n"
   ]
  },
  {
   "cell_type": "code",
   "execution_count": 40,
   "metadata": {},
   "outputs": [],
   "source": [
    "non_relevant_columns.update(quantity_columns)"
   ]
  },
  {
   "cell_type": "markdown",
   "metadata": {
    "jp-MarkdownHeadingCollapsed": true,
    "tags": []
   },
   "source": [
    "#### d) Emballages"
   ]
  },
  {
   "cell_type": "code",
   "execution_count": 41,
   "metadata": {},
   "outputs": [],
   "source": [
    "packaging_columns = {'packaging', 'packaging_tags', 'emb_codes', 'emb_codes_tags'}"
   ]
  },
  {
   "cell_type": "code",
   "execution_count": 42,
   "metadata": {},
   "outputs": [
    {
     "name": "stdout",
     "output_type": "stream",
     "text": [
      "-----------------------------------Pourcentage de NaN-----------------------------------\n",
      "packaging         0.725298\n",
      "emb_codes_tags    0.895145\n",
      "emb_codes         0.895130\n",
      "packaging_tags    0.725287\n",
      "dtype: float64\n",
      "------------------------------Compte des valeurs par variable------------------------------\n",
      "-----------------------------------------packaging-----------------------------------------\n",
      "NaN                    201704\n",
      "Carton                   2148\n",
      "Sachet,Plastique         2124\n",
      "Plastique                1895\n",
      "Bouteille,Verre          1318\n",
      "Conserve                 1277\n",
      "Kunststoff               1272\n",
      "sachet,plastique         1110\n",
      "Bocal,Verre              1102\n",
      "Bouteille,Plastique      1021\n",
      "Name: packaging, dtype: int64\n",
      "------------------------------------emb_codes_tags------------------------------------\n",
      "NaN                 248938\n",
      "emb-56251e             215\n",
      "fr-85-154-002-ec       128\n",
      "emb-49331h             105\n",
      "fr-72-264-002-ec       102\n",
      "fr-29-247-022-ec       102\n",
      "emb-45273              102\n",
      "fr-22-046-001-ec        99\n",
      "fr-62-767-005-ec        92\n",
      "fr-72-181-001-ec        77\n",
      "Name: emb_codes_tags, dtype: int64\n",
      "-----------------------------------------emb_codes-----------------------------------------\n",
      "NaN                 248934\n",
      "EMB 56251E             215\n",
      "FR 85.154.002 EC       128\n",
      "EMB 49331H             105\n",
      "FR 72.264.002 EC       102\n",
      "EMB 45273              102\n",
      "FR 29.247.022 EC       102\n",
      "FR 22.046.001 EC        99\n",
      "FR 62.767.005 EC        92\n",
      "FR 72.181.001 EC        77\n",
      "Name: emb_codes, dtype: int64\n",
      "------------------------------------packaging_tags------------------------------------\n",
      "NaN                    201701\n",
      "sachet,plastique         3936\n",
      "carton                   2907\n",
      "plastique                2776\n",
      "barquette,plastique      2122\n",
      "bouteille,verre          1639\n",
      "conserve                 1611\n",
      "bouteille,plastique      1555\n",
      "bocal,verre              1495\n",
      "kunststoff               1274\n",
      "Name: packaging_tags, dtype: int64\n"
     ]
    }
   ],
   "source": [
    "describe_qualitative_columns(start_work_df, packaging_columns)"
   ]
  },
  {
   "cell_type": "markdown",
   "metadata": {},
   "source": [
    "Il s'agit de quatres données qualitatives.  \n",
    "On choisit de se séparer de ces variables puisque :\n",
    "- Les données sont mal renseignées de 72% à 89% de NaN, très morcelées et pas homogènes.  \n",
    "- De plus les unités ne sont pas homogènes, même pour une même grandeur (Masse ou volume).  \n",
    "- Le rapport avec la santé n'apparaît pas évident.\n",
    "\n"
   ]
  },
  {
   "cell_type": "code",
   "execution_count": 43,
   "metadata": {},
   "outputs": [],
   "source": [
    "non_relevant_columns.update(packaging_columns)"
   ]
  },
  {
   "cell_type": "markdown",
   "metadata": {
    "tags": []
   },
   "source": [
    "#### e) Catégories"
   ]
  },
  {
   "cell_type": "markdown",
   "metadata": {},
   "source": [
    "On trouve un certain nombre de variable qui cherche à catégoriser les produits.  \n",
    "On retrouve des groupes PNNS du Programme National Nutrition Santé."
   ]
  },
  {
   "cell_type": "code",
   "execution_count": 44,
   "metadata": {},
   "outputs": [],
   "source": [
    "category_columns = {\n",
    "                     'main_category', 'main_category_fr',\n",
    "                     'categories', 'categories_tags', 'categories_fr',\n",
    "                     'pnns_groups_1','pnns_groups_2'\n",
    "}"
   ]
  },
  {
   "cell_type": "code",
   "execution_count": 45,
   "metadata": {},
   "outputs": [
    {
     "name": "stdout",
     "output_type": "stream",
     "text": [
      "-----------------------------------Pourcentage de NaN-----------------------------------\n",
      "pnns_groups_1       0.681580\n",
      "main_category_fr    0.700746\n",
      "main_category       0.700746\n",
      "categories_tags     0.700746\n",
      "pnns_groups_2       0.671432\n",
      "categories_fr       0.700746\n",
      "categories          0.700746\n",
      "dtype: float64\n",
      "------------------------------Compte des valeurs par variable------------------------------\n",
      "-------------------------------------pnns_groups_1-------------------------------------\n",
      "NaN                        189546\n",
      "unknown                     20436\n",
      "Sugary snacks               12240\n",
      "Beverages                    8875\n",
      "Milk and dairy products      8744\n",
      "Cereals and potatoes         8351\n",
      "Fish Meat Eggs               7963\n",
      "Composite foods              6694\n",
      "Fruits and vegetables        5835\n",
      "Fat and sauces               5137\n",
      "Name: pnns_groups_1, dtype: int64\n",
      "----------------------------------main_category_fr----------------------------------\n",
      "NaN                                        194876\n",
      "Boissons                                     5808\n",
      "Epicerie                                     2854\n",
      "Chocolats                                    2762\n",
      "Aliments et boissons à base de végétaux      2719\n",
      "Conserves                                    2497\n",
      "Biscuits                                     2090\n",
      "Plats préparés                               2064\n",
      "Snacks sucrés                                1928\n",
      "Surgelés                                     1867\n",
      "Name: main_category_fr, dtype: int64\n",
      "-------------------------------------main_category-------------------------------------\n",
      "NaN                                   194876\n",
      "en:beverages                            5808\n",
      "en:groceries                            2854\n",
      "en:chocolates                           2762\n",
      "en:plant-based-foods-and-beverages      2719\n",
      "en:canned-foods                         2497\n",
      "en:biscuits                             2090\n",
      "en:meals                                2064\n",
      "en:sugary-snacks                        1928\n",
      "en:frozen-foods                         1867\n",
      "Name: main_category, dtype: int64\n",
      "-----------------------------------categories_tags-----------------------------------\n",
      "NaN                                                                                                                                                 194876\n",
      "en:sugary-snacks,en:biscuits-and-cakes,en:biscuits                                                                                                     800\n",
      "en:sugary-snacks,en:chocolates,en:dark-chocolates                                                                                                      605\n",
      "en:sugary-snacks,en:confectioneries,en:candies                                                                                                         520\n",
      "en:plant-based-foods-and-beverages,en:plant-based-foods,en:breakfasts,en:cereals-and-potatoes,en:cereals-and-their-products,en:breakfast-cereals       511\n",
      "en:sugary-snacks,en:biscuits-and-cakes,en:biscuits,en:chocolate-biscuits                                                                               462\n",
      "en:salty-snacks,en:appetizers,en:crackers                                                                                                              449\n",
      "en:sugary-snacks,en:chocolates,en:milk-chocolates                                                                                                      424\n",
      "en:sugary-snacks,en:chocolates                                                                                                                         411\n",
      "en:dairies,en:yogurts                                                                                                                                  410\n",
      "Name: categories_tags, dtype: int64\n",
      "-------------------------------------pnns_groups_2-------------------------------------\n",
      "NaN                      186724\n",
      "unknown                   20436\n",
      "One-dish meals             5500\n",
      "Sweets                     4617\n",
      "Biscuits and cakes         4541\n",
      "Non-sugared beverages      4168\n",
      "Cereals                    4069\n",
      "Cheese                     3988\n",
      "Dressings and sauces       3544\n",
      "Milk and yogurt            3254\n",
      "Name: pnns_groups_2, dtype: int64\n",
      "-------------------------------------categories_fr-------------------------------------\n",
      "NaN                                                                                                                                                                 194876\n",
      "Snacks sucrés,Biscuits et gâteaux,Biscuits                                                                                                                             800\n",
      "Snacks sucrés,Chocolats,Chocolats noirs                                                                                                                                605\n",
      "Snacks sucrés,Confiseries,Bonbons                                                                                                                                      520\n",
      "Aliments et boissons à base de végétaux,Aliments d'origine végétale,Petit-déjeuners,Céréales et pommes de terre,Céréales et dérivés,Céréales pour petit-déjeuner       511\n",
      "Snacks sucrés,Biscuits et gâteaux,Biscuits,Biscuits au chocolat                                                                                                        462\n",
      "Snacks salés,Apéritif,Biscuits apéritifs                                                                                                                               449\n",
      "Snacks sucrés,Chocolats,Chocolats au lait                                                                                                                              424\n",
      "Snacks sucrés,Chocolats                                                                                                                                                411\n",
      "Produits laitiers,Yaourts                                                                                                                                              410\n",
      "Name: categories_fr, dtype: int64\n",
      "----------------------------------------categories----------------------------------------\n",
      "NaN                                                                                                                                                                 194876\n",
      "Snacks sucrés,Biscuits et gâteaux,Biscuits                                                                                                                             301\n",
      "Biscuits                                                                                                                                                               287\n",
      "Snacks sucrés,Biscuits et gâteaux,Biscuits,Biscuits au chocolat                                                                                                        246\n",
      "Aliments et boissons à base de végétaux,Aliments d'origine végétale,Petit-déjeuners,Céréales et pommes de terre,Céréales et dérivés,Céréales pour petit-déjeuner       221\n",
      "Snacks sucrés,Chocolats,Chocolats noirs                                                                                                                                212\n",
      "Bonbons                                                                                                                                                                210\n",
      "Viandes,Charcuteries,Jambons,Jambons blancs                                                                                                                            208\n",
      "Snacks sucrés,Chocolats,Chocolats au lait                                                                                                                              179\n",
      "Bonbons gélifiés                                                                                                                                                       169\n",
      "Name: categories, dtype: int64\n"
     ]
    }
   ],
   "source": [
    "describe_qualitative_columns(start_work_df, category_columns)"
   ]
  },
  {
   "cell_type": "code",
   "execution_count": 46,
   "metadata": {},
   "outputs": [
    {
     "data": {
      "image/png": "[encoded data removed]",
      "text/plain": [
       "<Figure size 432x288 with 2 Axes>"
      ]
     },
     "metadata": {
      "needs_background": "light"
     },
     "output_type": "display_data"
    }
   ],
   "source": [
    "heatmap_nan_sorted(start_work_df, category_columns)"
   ]
  },
  {
   "cell_type": "markdown",
   "metadata": {},
   "source": [
    "Les variables sont redondantes et on voit distingue deux groupes où les NaN correspondent parfaitement :\n",
    " - les groupes PNNS 1 et 2\n",
    " - les variables avec le mot category\n",
    " \n",
    "Elles sont globalement, mal renseignées repectivement 67% et 70% de NaN.  \n",
    "\n",
    "On choisit de recomposer une variable category avec les données des deux groupes de variables :\n",
    " - d'un côté pnns_groups_1\n",
    " - de l'autre la variable main_category"
   ]
  },
  {
   "cell_type": "code",
   "execution_count": 47,
   "metadata": {},
   "outputs": [],
   "source": [
    "work_df['category'] = work_df.pnns_groups_1.replace({\n",
    "    'fruits-and-vegetables': 'Fruits and vegetables',\n",
    "    'sugary-snacks': 'Sugary snacks',\n",
    "    'cereals-and-potatoes': 'Cereals and potatoes',\n",
    "    'salty-snacks': 'Salty snacks',\n",
    "})"
   ]
  },
  {
   "cell_type": "markdown",
   "metadata": {},
   "source": [
    "On utilise les groupes PNNS comme repère de catégorie."
   ]
  },
  {
   "cell_type": "code",
   "execution_count": 48,
   "metadata": {},
   "outputs": [],
   "source": [
    "work_df.category = work_df.category.fillna(work_df.pnns_groups_2)\n",
    "\n",
    "work_df.category = work_df.category.fillna(work_df.main_category_fr)\n",
    "match = {'Alcoholic beverages': 'Beverages',\n",
    "         'Tripe dishes': 'Fish Meat Eggs',\n",
    "         'unknown': pd.NA,\n",
    "}\n",
    "work_df.category = work_df.category.replace(match)"
   ]
  },
  {
   "cell_type": "code",
   "execution_count": 49,
   "metadata": {},
   "outputs": [
    {
     "data": {
      "text/plain": [
       "NaN                        0.744917\n",
       "Sugary snacks              0.045775\n",
       "Beverages                  0.041813\n",
       "Milk and dairy products    0.031442\n",
       "Cereals and potatoes       0.030087\n",
       "Fish Meat Eggs             0.028882\n",
       "Fruits and vegetables      0.024517\n",
       "Composite foods            0.024071\n",
       "Fat and sauces             0.018472\n",
       "Salty snacks               0.010025\n",
       "Name: category, dtype: float64"
      ]
     },
     "execution_count": 49,
     "metadata": {},
     "output_type": "execute_result"
    }
   ],
   "source": [
    "work_df.category.value_counts(dropna=False, normalize=True)"
   ]
  },
  {
   "cell_type": "markdown",
   "metadata": {},
   "source": [
    "##### Bilan\n",
    "On conserve 74% de NaN, plus qu'indiqué plus haut mais le chiffre ne tenait pas compte de la catégorie 'unknown'."
   ]
  },
  {
   "cell_type": "code",
   "execution_count": 50,
   "metadata": {},
   "outputs": [],
   "source": [
    "non_relevant_columns.update(category_columns)"
   ]
  },
  {
   "cell_type": "markdown",
   "metadata": {
    "jp-MarkdownHeadingCollapsed": true,
    "tags": []
   },
   "source": [
    "#### d) Marque"
   ]
  },
  {
   "cell_type": "code",
   "execution_count": 51,
   "metadata": {},
   "outputs": [],
   "source": [
    "brands_columns = {'stores', 'brands', 'brands_tags'}"
   ]
  },
  {
   "cell_type": "code",
   "execution_count": 52,
   "metadata": {},
   "outputs": [
    {
     "name": "stdout",
     "output_type": "stream",
     "text": [
      "-----------------------------------Pourcentage de NaN-----------------------------------\n",
      "stores         0.815989\n",
      "brands_tags    0.047214\n",
      "brands         0.047196\n",
      "dtype: float64\n",
      "------------------------------Compte des valeurs par variable------------------------------\n",
      "--------------------------------------------stores--------------------------------------------\n",
      "NaN            226925\n",
      "Carrefour        6436\n",
      "Auchan           2864\n",
      "Leclerc          2824\n",
      "Cora             2264\n",
      "Intermarché      2202\n",
      "Lidl             1719\n",
      "Franprix         1642\n",
      "Aldi             1392\n",
      "Super U          1352\n",
      "Name: stores, dtype: int64\n",
      "---------------------------------------brands_tags---------------------------------------\n",
      "NaN             13130\n",
      "carrefour        2945\n",
      "auchan           2246\n",
      "u                1950\n",
      "leader-price     1795\n",
      "meijer           1561\n",
      "kroger           1544\n",
      "casino           1540\n",
      "ahold            1207\n",
      "spartan          1182\n",
      "Name: brands_tags, dtype: int64\n",
      "--------------------------------------------brands--------------------------------------------\n",
      "NaN             13125\n",
      "Carrefour        2843\n",
      "Auchan           2159\n",
      "U                1927\n",
      "Leader Price     1637\n",
      "Meijer           1560\n",
      "Kroger           1544\n",
      "Casino           1477\n",
      "Ahold            1207\n",
      "Spartan          1182\n",
      "Name: brands, dtype: int64\n"
     ]
    }
   ],
   "source": [
    "describe_qualitative_columns(start_work_df, brands_columns)"
   ]
  },
  {
   "cell_type": "markdown",
   "metadata": {},
   "source": [
    "Les variables 'stores' nous permet de connaître l'enseigne. On peut donc l'utiliser pour alimenter les NaN de 'brands'."
   ]
  },
  {
   "cell_type": "code",
   "execution_count": 53,
   "metadata": {},
   "outputs": [],
   "source": [
    "work_df['brands'].fillna(work_df['stores'], inplace=True)"
   ]
  },
  {
   "cell_type": "code",
   "execution_count": 54,
   "metadata": {},
   "outputs": [],
   "source": [
    "work_df['brands'].fillna(\"Aucun\", inplace=True)"
   ]
  },
  {
   "cell_type": "code",
   "execution_count": 55,
   "metadata": {},
   "outputs": [],
   "source": [
    "non_relevant_columns.update({'stores', 'brands_tags'})"
   ]
  },
  {
   "cell_type": "markdown",
   "metadata": {
    "jp-MarkdownHeadingCollapsed": true,
    "tags": []
   },
   "source": [
    "#### e) Lieu"
   ]
  },
  {
   "cell_type": "code",
   "execution_count": 56,
   "metadata": {},
   "outputs": [],
   "source": [
    "location_columns = {\n",
    "                     'countries', 'countries_tags', 'countries_fr',\n",
    "                     'manufacturing_places', 'manufacturing_places_tags',\n",
    "                     'purchase_places'\n",
    "}"
   ]
  },
  {
   "cell_type": "code",
   "execution_count": 57,
   "metadata": {},
   "outputs": [
    {
     "name": "stdout",
     "output_type": "stream",
     "text": [
      "-----------------------------------Pourcentage de NaN-----------------------------------\n",
      "purchase_places              0.792116\n",
      "manufacturing_places         0.869427\n",
      "manufacturing_places_tags    0.869449\n",
      "countries_tags               0.000716\n",
      "countries                    0.000716\n",
      "countries_fr                 0.000716\n",
      "dtype: float64\n",
      "------------------------------Compte des valeurs par variable------------------------------\n",
      "-----------------------------------purchase_places-----------------------------------\n",
      "NaN                         220286\n",
      "France                       11724\n",
      "Lyon,France                   3085\n",
      "Courrières,France             2267\n",
      "Madrid,España                 2000\n",
      "Paris,France                  1926\n",
      "España                        1222\n",
      "Rennes,France                 1127\n",
      "Deutschland                   1028\n",
      "Liverpool,United Kingdom       921\n",
      "Name: purchase_places, dtype: int64\n",
      "------------------------------manufacturing_places------------------------------\n",
      "NaN                241786\n",
      "France               9326\n",
      "Italie               1241\n",
      "Deutschland           765\n",
      "Belgique              742\n",
      "Suisse                683\n",
      "Allemagne             670\n",
      "Australia             547\n",
      "Espagne               484\n",
      "France,Bretagne       453\n",
      "Name: manufacturing_places, dtype: int64\n",
      "-------------------------manufacturing_places_tags-------------------------\n",
      "NaN               241792\n",
      "france              9406\n",
      "italie              1268\n",
      "deutschland          767\n",
      "belgique             751\n",
      "suisse               697\n",
      "allemagne            679\n",
      "australia            548\n",
      "espagne              508\n",
      "united-kingdom       468\n",
      "Name: manufacturing_places_tags, dtype: int64\n",
      "------------------------------------countries_tags------------------------------------\n",
      "en:united-states            156176\n",
      "en:france                    79453\n",
      "en:switzerland               12238\n",
      "en:germany                    6273\n",
      "en:spain                      4397\n",
      "en:united-kingdom             4306\n",
      "en:belgium                    1780\n",
      "en:australia                  1608\n",
      "en:france,en:switzerland      1201\n",
      "en:russia                      981\n",
      "Name: countries_tags, dtype: int64\n",
      "-----------------------------------------countries-----------------------------------------\n",
      "US                153469\n",
      "France             75345\n",
      "Suisse             10681\n",
      "Deutschland         5698\n",
      "en:FR               3996\n",
      "España              3663\n",
      "United Kingdom      3198\n",
      "United States       2219\n",
      "Australia           1366\n",
      "en:CH               1095\n",
      "Name: countries, dtype: int64\n",
      "--------------------------------------countries_fr--------------------------------------\n",
      "États-Unis       156176\n",
      "France            79454\n",
      "Suisse            12238\n",
      "Allemagne          6273\n",
      "Espagne            4397\n",
      "Royaume-Uni        4306\n",
      "Belgique           1780\n",
      "Australie          1608\n",
      "France,Suisse      1201\n",
      "Russie              981\n",
      "Name: countries_fr, dtype: int64\n"
     ]
    }
   ],
   "source": [
    "describe_qualitative_columns(start_work_df, location_columns)"
   ]
  },
  {
   "cell_type": "code",
   "execution_count": 58,
   "metadata": {},
   "outputs": [
    {
     "data": {
      "text/plain": [
       "Index(['countries_tags', 'countries', 'countries_fr', 'purchase_places',\n",
       "       'manufacturing_places', 'manufacturing_places_tags'],\n",
       "      dtype='object')"
      ]
     },
     "execution_count": 58,
     "metadata": {},
     "output_type": "execute_result"
    }
   ],
   "source": [
    "start_work_df[location_columns].isna().sum().sort_values().index"
   ]
  },
  {
   "cell_type": "code",
   "execution_count": 59,
   "metadata": {},
   "outputs": [
    {
     "data": {
      "image/png": "[encoded data removed]",
      "text/plain": [
       "<Figure size 432x288 with 2 Axes>"
      ]
     },
     "metadata": {
      "needs_background": "light"
     },
     "output_type": "display_data"
    }
   ],
   "source": [
    "heatmap_nan_sorted(start_work_df, location_columns)"
   ]
  },
  {
   "cell_type": "markdown",
   "metadata": {},
   "source": [
    "Les variables 'manufactoring_places', 'purchase_places' sont à la fois trop détaillées et remplies de NaN.</br>\n",
    "Les variables de pays on l'avantage d'être bien renseignée sans NaN, mais redondantes, il faut en conserver une :</br>\n",
    "'countries_fr' semble la plus appropriée."
   ]
  },
  {
   "cell_type": "code",
   "execution_count": 60,
   "metadata": {},
   "outputs": [],
   "source": [
    "non_relevant_columns.update({'countries',\n",
    "                             'countries_tags',\n",
    "                             'manufacturing_places',\n",
    "                             'manufacturing_places_tags',\n",
    "                             'purchase_places'})"
   ]
  },
  {
   "cell_type": "markdown",
   "metadata": {
    "jp-MarkdownHeadingCollapsed": true,
    "tags": []
   },
   "source": [
    "#### f) Labels"
   ]
  },
  {
   "cell_type": "code",
   "execution_count": 61,
   "metadata": {},
   "outputs": [],
   "source": [
    "labels_columns = {'labels', 'labels_tags', 'labels_fr'}"
   ]
  },
  {
   "cell_type": "code",
   "execution_count": 62,
   "metadata": {},
   "outputs": [
    {
     "name": "stdout",
     "output_type": "stream",
     "text": [
      "-----------------------------------Pourcentage de NaN-----------------------------------\n",
      "labels         0.835522\n",
      "labels_tags    0.835216\n",
      "labels_fr      0.835216\n",
      "dtype: float64\n",
      "------------------------------Compte des valeurs par variable------------------------------\n",
      "--------------------------------------------labels--------------------------------------------\n",
      "NaN                                                     232357\n",
      "Organic, EU Organic, fr:AB Agriculture Biologique         3121\n",
      "Point Vert                                                2035\n",
      "Vegetariano,Vegano                                        1047\n",
      "Bio,Bio européen,AB Agriculture Biologique                 972\n",
      "Point Vert,Eco-Emballages                                  609\n",
      "AB,Bio européen                                            407\n",
      "AOP                                                        399\n",
      "Produit en Bretagne                                        388\n",
      "Bio,Bio européen,FR-BIO-01,AB Agriculture Biologique       320\n",
      "Name: labels, dtype: int64\n",
      "---------------------------------------labels_tags---------------------------------------\n",
      "NaN                                                                   232272\n",
      "en:organic,en:eu-organic,fr:ab-agriculture-biologique                   5136\n",
      "en:green-dot                                                            2431\n",
      "en:vegetarian,en:vegan                                                  1591\n",
      "en:green-dot,fr:eco-emballages                                           835\n",
      "en:organic,en:eu-organic,en:fr-bio-01,fr:ab-agriculture-biologique       829\n",
      "en:gluten-free                                                           468\n",
      "en:labels-of-distributors,fr:selection-intermarche                       438\n",
      "en:pdo                                                                   434\n",
      "en:no-colorings,en:no-preservatives                                      417\n",
      "Name: labels_tags, dtype: int64\n",
      "-----------------------------------------labels_fr-----------------------------------------\n",
      "NaN                                                     232272\n",
      "Bio,Bio européen,AB Agriculture Biologique                5136\n",
      "Point Vert                                                2431\n",
      "Végétarien,Végétalien                                     1591\n",
      "Point Vert,Eco-emballages                                  835\n",
      "Bio,Bio européen,FR-BIO-01,AB Agriculture Biologique       829\n",
      "Sans gluten                                                468\n",
      "Labels de distributeurs,Sélection Intermarché              438\n",
      "AOP                                                        434\n",
      "Sans colorants,Sans conservateurs                          417\n",
      "Name: labels_fr, dtype: int64\n"
     ]
    }
   ],
   "source": [
    "describe_qualitative_columns(start_work_df,labels_columns)"
   ]
  },
  {
   "cell_type": "code",
   "execution_count": 63,
   "metadata": {},
   "outputs": [
    {
     "data": {
      "image/png": "[encoded data removed]",
      "text/plain": [
       "<Figure size 432x288 with 2 Axes>"
      ]
     },
     "metadata": {
      "needs_background": "light"
     },
     "output_type": "display_data"
    }
   ],
   "source": [
    "heatmap_nan_sorted(start_work_df, labels_columns)"
   ]
  },
  {
   "cell_type": "markdown",
   "metadata": {},
   "source": [
    "On compte 85% de NaN qui coïncident pour les différentes variables.  \n",
    "Le fait d'avoir un label est assez rare, donc on peut supposer que l'absence signifie qu'il n'y a pas de label.  \n",
    "On choisit de conserver 'label_fr'.  "
   ]
  },
  {
   "cell_type": "code",
   "execution_count": 64,
   "metadata": {},
   "outputs": [],
   "source": [
    "work_df.labels_fr = work_df.labels_fr.notnull()"
   ]
  },
  {
   "cell_type": "code",
   "execution_count": 65,
   "metadata": {},
   "outputs": [],
   "source": [
    "non_relevant_columns.update({'labels', 'labels_tags'})"
   ]
  },
  {
   "cell_type": "markdown",
   "metadata": {
    "jp-MarkdownHeadingCollapsed": true,
    "tags": []
   },
   "source": [
    "#### g) Constituants"
   ]
  },
  {
   "cell_type": "code",
   "execution_count": 66,
   "metadata": {},
   "outputs": [],
   "source": [
    "energy_columns = set()\n",
    "nutrition_score_columns = set()\n",
    "elements_columns = set()\n",
    "\n",
    "for column in work_df.columns:\n",
    "    if 'energy' in column:\n",
    "        energy_columns.add(column)\n",
    "    elif 'nutrition_score' in column:\n",
    "        nutrition_score_columns.add(column)\n",
    "    elif column.endswith('_100g') and evaluate_nan_percentage(work_df[column]) < 0.90:\n",
    "        elements_columns.add(column)\n"
   ]
  },
  {
   "cell_type": "code",
   "execution_count": 67,
   "metadata": {},
   "outputs": [],
   "source": [
    "additives_columns = {'additives_n', 'additives', 'additives_tags', 'additives_fr'}\n",
    "palm_oil_columns = {\n",
    "       'palm_oil_n',\n",
    "       'may_be_palm_oil_n', \n",
    "}\n"
   ]
  },
  {
   "cell_type": "markdown",
   "metadata": {
    "tags": []
   },
   "source": [
    "1. Traitement des NaN"
   ]
  },
  {
   "cell_type": "code",
   "execution_count": 98,
   "metadata": {
    "tags": []
   },
   "outputs": [
    {
     "data": {
      "text/plain": [
       "sugars_100g           0.000908\n",
       "sodium_100g           0.000908\n",
       "proteins_100g         0.000908\n",
       "saturated_fat_100g    0.000908\n",
       "salt_100g             0.000908\n",
       "fat_100g              0.081546\n",
       "carbohydrates_100g    0.081670\n",
       "fiber_100g            0.129915\n",
       "cholesterol_100g      0.398313\n",
       "calcium_100g          0.405405\n",
       "trans_fat_100g        0.406719\n",
       "iron_100g             0.409725\n",
       "vitamin_c_100g        0.416818\n",
       "vitamin_a_100g        0.420885\n",
       "dtype: float64"
      ]
     },
     "execution_count": 98,
     "metadata": {},
     "output_type": "execute_result"
    }
   ],
   "source": [
    "(clean_df[elements_columns].isna().sum()/clean_df.shape[0]).sort_values()"
   ]
  },
  {
   "cell_type": "code",
   "execution_count": 99,
   "metadata": {},
   "outputs": [
    {
     "data": {
      "image/png": "[encoded data removed]",
      "text/plain": [
       "<Figure size 432x288 with 2 Axes>"
      ]
     },
     "metadata": {
      "needs_background": "light"
     },
     "output_type": "display_data"
    }
   ],
   "source": [
    "heatmap_nan_sorted(clean_df, ['salt_100g', 'saturated_fat_100g', 'proteins_100g', 'sodium_100g', 'sugars_100g'])"
   ]
  },
  {
   "cell_type": "code",
   "execution_count": 100,
   "metadata": {},
   "outputs": [
    {
     "data": {
      "text/plain": [
       "190"
      ]
     },
     "execution_count": 100,
     "metadata": {},
     "output_type": "execute_result"
    }
   ],
   "source": [
    "nan_element_indices = set()\n",
    "for column in ['salt_100g', 'saturated_fat_100g', 'proteins_100g', 'sodium_100g', 'sugars_100g']:\n",
    "    nan_element_indices.update(clean_df[clean_df[column].isnull() == True].index)\n",
    "len(nan_element_indices)"
   ]
  },
  {
   "cell_type": "markdown",
   "metadata": {},
   "source": [
    "La heatmap ne permet pas d'identifier la correspondance des NaN.  \n",
    "Ce pendant la construction du set montre que les 190 indices correspondent parfaitement entre les 5 variables."
   ]
  },
  {
   "cell_type": "code",
   "execution_count": 101,
   "metadata": {},
   "outputs": [
    {
     "data": {
      "image/png": "[encoded data removed]",
      "text/plain": [
       "<Figure size 432x288 with 2 Axes>"
      ]
     },
     "metadata": {
      "needs_background": "light"
     },
     "output_type": "display_data"
    }
   ],
   "source": [
    "heatmap_nan_sorted(clean_df, ['calcium_100g', 'carbohydrates_100g', 'cholesterol_100g', 'fat_100g', 'fiber_100g', 'iron_100g'])"
   ]
  },
  {
   "cell_type": "code",
   "execution_count": 102,
   "metadata": {},
   "outputs": [
    {
     "data": {
      "text/plain": [
       "proteins_100g         0.126434\n",
       "salt_100g             0.142040\n",
       "sodium_100g           0.142205\n",
       "sugars_100g           0.172702\n",
       "fat_100g              0.182576\n",
       "carbohydrates_100g    0.183644\n",
       "saturated_fat_100g    0.222123\n",
       "fiber_100g            0.320678\n",
       "cholesterol_100g      0.526786\n",
       "trans_fat_100g        0.530234\n",
       "calcium_100g          0.533226\n",
       "vitamin_c_100g        0.534563\n",
       "iron_100g             0.536135\n",
       "vitamin_a_100g        0.546009\n",
       "dtype: float64"
      ]
     },
     "execution_count": 102,
     "metadata": {},
     "output_type": "execute_result"
    }
   ],
   "source": [
    "(work_df[elements_columns].isna().sum()/work_df.shape[0]).sort_values()"
   ]
  },
  {
   "cell_type": "markdown",
   "metadata": {},
   "source": [
    "Le nombre de NaN permet de différencier :\n",
    "- les éléments qui sont pratiquement toujours présents : le sucre, le sel, le sodium, les protéines, les graisses saturées.\n",
    "- les élements assez fréquents : les graisses, les glucides, les fibres\n",
    "- les élements plutôt rares : le cholestérol, la calcium, les acides gras trans, le fer, les vitamines A et C\n",
    "\n",
    "Beaucoup de NaN coïncident avec les NaN de la variable cible.\n",
    "On choisit :\n",
    "- de supprimer les 190 individus dont les éléments essentiels sont absents (Les NaN sont totalement communs pour les éléments pratiquement toujours présents).\n",
    "- de substituer 0 aux autres valeurs qui sont plus rares dans les aliments."
   ]
  },
  {
   "cell_type": "code",
   "execution_count": 103,
   "metadata": {
    "jupyter": {
     "source_hidden": true
    },
    "tags": []
   },
   "outputs": [],
   "source": [
    "clean_df = clean_df.dropna(subset=['salt_100g'])"
   ]
  },
  {
   "cell_type": "code",
   "execution_count": 104,
   "metadata": {},
   "outputs": [],
   "source": [
    "for column in elements_columns:\n",
    "    clean_df[column] = clean_df[column].fillna(0)"
   ]
  },
  {
   "cell_type": "code",
   "execution_count": 105,
   "metadata": {},
   "outputs": [
    {
     "data": {
      "text/plain": [
       "sugars_100g           0.0\n",
       "fiber_100g            0.0\n",
       "sodium_100g           0.0\n",
       "calcium_100g          0.0\n",
       "vitamin_c_100g        0.0\n",
       "carbohydrates_100g    0.0\n",
       "proteins_100g         0.0\n",
       "trans_fat_100g        0.0\n",
       "cholesterol_100g      0.0\n",
       "vitamin_a_100g        0.0\n",
       "fat_100g              0.0\n",
       "iron_100g             0.0\n",
       "saturated_fat_100g    0.0\n",
       "salt_100g             0.0\n",
       "dtype: float64"
      ]
     },
     "execution_count": 105,
     "metadata": {},
     "output_type": "execute_result"
    }
   ],
   "source": [
    "(clean_df[elements_columns].isna().sum()/clean_df.shape[0]).sort_values()"
   ]
  },
  {
   "cell_type": "markdown",
   "metadata": {},
   "source": [
    "2. Outliers"
   ]
  },
  {
   "cell_type": "markdown",
   "metadata": {},
   "source": [
    "On peut calculer les outliers en fixant deux bornes :\n",
    "- 0 puisqu'il s'agit de quantité\n",
    "- 100 puisqu'il s'agit de quantité en g/mL pour 100g/100mL"
   ]
  },
  {
   "cell_type": "code",
   "execution_count": 106,
   "metadata": {},
   "outputs": [
    {
     "name": "stdout",
     "output_type": "stream",
     "text": [
      "sugars_100g                                        14 outliers\n",
      "fiber_100g                                         2 outliers\n",
      "sodium_100g                                        22 outliers\n",
      "calcium_100g                                       5 outliers\n",
      "vitamin_c_100g                                     2 outliers\n",
      "carbohydrates_100g                                 12 outliers\n",
      "proteins_100g                                      2 outliers\n",
      "trans_fat_100g                                     9 outliers\n",
      "cholesterol_100g                                   0 outliers\n",
      "vitamin_a_100g                                     0 outliers\n",
      "fat_100g                                           4 outliers\n",
      "iron_100g                                          1 outliers\n",
      "saturated_fat_100g                                 2 outliers\n",
      "salt_100g                                          51 outliers\n"
     ]
    }
   ],
   "source": [
    "for column in elements_columns:\n",
    "    print(f'{column :<50} {len(outliers_indices(clean_df[column], 0, 100))} outliers')"
   ]
  },
  {
   "cell_type": "markdown",
   "metadata": {},
   "source": [
    "Sur les données restantes, il reste très peu d'outliers. On peut les supprimer sans grande conséquences sur le jeu de données."
   ]
  },
  {
   "cell_type": "code",
   "execution_count": 107,
   "metadata": {},
   "outputs": [],
   "source": [
    "for column in elements_columns:\n",
    "    clean_df = clean_df.drop(outliers_indices(clean_df[column], 0, 100))"
   ]
  },
  {
   "cell_type": "code",
   "execution_count": 108,
   "metadata": {},
   "outputs": [
    {
     "data": {
      "text/html": [
       "<div>\n",
       "<style scoped>\n",
       "    .dataframe tbody tr th:only-of-type {\n",
       "        vertical-align: middle;\n",
       "    }\n",
       "\n",
       "    .dataframe tbody tr th {\n",
       "        vertical-align: top;\n",
       "    }\n",
       "\n",
       "    .dataframe thead th {\n",
       "        text-align: right;\n",
       "    }\n",
       "</style>\n",
       "<table border=\"1\" class=\"dataframe\">\n",
       "  <thead>\n",
       "    <tr style=\"text-align: right;\">\n",
       "      <th></th>\n",
       "      <th>sugars_100g</th>\n",
       "      <th>fiber_100g</th>\n",
       "      <th>sodium_100g</th>\n",
       "      <th>calcium_100g</th>\n",
       "      <th>vitamin_c_100g</th>\n",
       "      <th>carbohydrates_100g</th>\n",
       "      <th>proteins_100g</th>\n",
       "      <th>trans_fat_100g</th>\n",
       "      <th>cholesterol_100g</th>\n",
       "      <th>vitamin_a_100g</th>\n",
       "      <th>fat_100g</th>\n",
       "      <th>iron_100g</th>\n",
       "      <th>saturated_fat_100g</th>\n",
       "      <th>salt_100g</th>\n",
       "    </tr>\n",
       "  </thead>\n",
       "  <tbody>\n",
       "    <tr>\n",
       "      <th>count</th>\n",
       "      <td>208963.000000</td>\n",
       "      <td>208963.000000</td>\n",
       "      <td>208963.000000</td>\n",
       "      <td>208963.000000</td>\n",
       "      <td>208963.000000</td>\n",
       "      <td>208963.000000</td>\n",
       "      <td>208963.000000</td>\n",
       "      <td>208963.000000</td>\n",
       "      <td>208963.000000</td>\n",
       "      <td>208963.000000</td>\n",
       "      <td>208963.000000</td>\n",
       "      <td>208963.000000</td>\n",
       "      <td>208963.000000</td>\n",
       "      <td>208963.000000</td>\n",
       "    </tr>\n",
       "    <tr>\n",
       "      <th>mean</th>\n",
       "      <td>15.078764</td>\n",
       "      <td>2.433956</td>\n",
       "      <td>0.493617</td>\n",
       "      <td>0.057696</td>\n",
       "      <td>0.004255</td>\n",
       "      <td>30.554379</td>\n",
       "      <td>7.741020</td>\n",
       "      <td>0.040451</td>\n",
       "      <td>0.011340</td>\n",
       "      <td>0.000084</td>\n",
       "      <td>12.293052</td>\n",
       "      <td>0.001864</td>\n",
       "      <td>4.983800</td>\n",
       "      <td>1.253788</td>\n",
       "    </tr>\n",
       "    <tr>\n",
       "      <th>std</th>\n",
       "      <td>19.770137</td>\n",
       "      <td>4.257413</td>\n",
       "      <td>1.561350</td>\n",
       "      <td>0.370087</td>\n",
       "      <td>0.098294</td>\n",
       "      <td>28.470205</td>\n",
       "      <td>8.020239</td>\n",
       "      <td>0.743746</td>\n",
       "      <td>0.263696</td>\n",
       "      <td>0.001842</td>\n",
       "      <td>15.722935</td>\n",
       "      <td>0.137699</td>\n",
       "      <td>7.539092</td>\n",
       "      <td>3.965839</td>\n",
       "    </tr>\n",
       "    <tr>\n",
       "      <th>min</th>\n",
       "      <td>0.000000</td>\n",
       "      <td>0.000000</td>\n",
       "      <td>0.000000</td>\n",
       "      <td>0.000000</td>\n",
       "      <td>0.000000</td>\n",
       "      <td>0.000000</td>\n",
       "      <td>0.000000</td>\n",
       "      <td>0.000000</td>\n",
       "      <td>0.000000</td>\n",
       "      <td>0.000000</td>\n",
       "      <td>0.000000</td>\n",
       "      <td>0.000000</td>\n",
       "      <td>0.000000</td>\n",
       "      <td>0.000000</td>\n",
       "    </tr>\n",
       "    <tr>\n",
       "      <th>25%</th>\n",
       "      <td>1.300000</td>\n",
       "      <td>0.000000</td>\n",
       "      <td>0.040000</td>\n",
       "      <td>0.000000</td>\n",
       "      <td>0.000000</td>\n",
       "      <td>4.700000</td>\n",
       "      <td>2.000000</td>\n",
       "      <td>0.000000</td>\n",
       "      <td>0.000000</td>\n",
       "      <td>0.000000</td>\n",
       "      <td>0.100000</td>\n",
       "      <td>0.000000</td>\n",
       "      <td>0.000000</td>\n",
       "      <td>0.101600</td>\n",
       "    </tr>\n",
       "    <tr>\n",
       "      <th>50%</th>\n",
       "      <td>5.200000</td>\n",
       "      <td>0.900000</td>\n",
       "      <td>0.261000</td>\n",
       "      <td>0.000000</td>\n",
       "      <td>0.000000</td>\n",
       "      <td>20.000000</td>\n",
       "      <td>5.710000</td>\n",
       "      <td>0.000000</td>\n",
       "      <td>0.000000</td>\n",
       "      <td>0.000000</td>\n",
       "      <td>5.560000</td>\n",
       "      <td>0.000000</td>\n",
       "      <td>1.790000</td>\n",
       "      <td>0.662940</td>\n",
       "    </tr>\n",
       "    <tr>\n",
       "      <th>75%</th>\n",
       "      <td>23.330000</td>\n",
       "      <td>3.300000</td>\n",
       "      <td>0.540000</td>\n",
       "      <td>0.057000</td>\n",
       "      <td>0.000000</td>\n",
       "      <td>56.900000</td>\n",
       "      <td>10.710000</td>\n",
       "      <td>0.000000</td>\n",
       "      <td>0.000000</td>\n",
       "      <td>0.000000</td>\n",
       "      <td>20.000000</td>\n",
       "      <td>0.001290</td>\n",
       "      <td>7.140000</td>\n",
       "      <td>1.371600</td>\n",
       "    </tr>\n",
       "    <tr>\n",
       "      <th>max</th>\n",
       "      <td>100.000000</td>\n",
       "      <td>100.000000</td>\n",
       "      <td>39.370079</td>\n",
       "      <td>82.000000</td>\n",
       "      <td>35.714300</td>\n",
       "      <td>100.000000</td>\n",
       "      <td>100.000000</td>\n",
       "      <td>100.000000</td>\n",
       "      <td>95.238000</td>\n",
       "      <td>0.800000</td>\n",
       "      <td>100.000000</td>\n",
       "      <td>50.000000</td>\n",
       "      <td>100.000000</td>\n",
       "      <td>100.000000</td>\n",
       "    </tr>\n",
       "  </tbody>\n",
       "</table>\n",
       "</div>"
      ],
      "text/plain": [
       "         sugars_100g     fiber_100g    sodium_100g   calcium_100g  \\\n",
       "count  208963.000000  208963.000000  208963.000000  208963.000000   \n",
       "mean       15.078764       2.433956       0.493617       0.057696   \n",
       "std        19.770137       4.257413       1.561350       0.370087   \n",
       "min         0.000000       0.000000       0.000000       0.000000   \n",
       "25%         1.300000       0.000000       0.040000       0.000000   \n",
       "50%         5.200000       0.900000       0.261000       0.000000   \n",
       "75%        23.330000       3.300000       0.540000       0.057000   \n",
       "max       100.000000     100.000000      39.370079      82.000000   \n",
       "\n",
       "       vitamin_c_100g  carbohydrates_100g  proteins_100g  trans_fat_100g  \\\n",
       "count   208963.000000       208963.000000  208963.000000   208963.000000   \n",
       "mean         0.004255           30.554379       7.741020        0.040451   \n",
       "std          0.098294           28.470205       8.020239        0.743746   \n",
       "min          0.000000            0.000000       0.000000        0.000000   \n",
       "25%          0.000000            4.700000       2.000000        0.000000   \n",
       "50%          0.000000           20.000000       5.710000        0.000000   \n",
       "75%          0.000000           56.900000      10.710000        0.000000   \n",
       "max         35.714300          100.000000     100.000000      100.000000   \n",
       "\n",
       "       cholesterol_100g  vitamin_a_100g       fat_100g      iron_100g  \\\n",
       "count     208963.000000   208963.000000  208963.000000  208963.000000   \n",
       "mean           0.011340        0.000084      12.293052       0.001864   \n",
       "std            0.263696        0.001842      15.722935       0.137699   \n",
       "min            0.000000        0.000000       0.000000       0.000000   \n",
       "25%            0.000000        0.000000       0.100000       0.000000   \n",
       "50%            0.000000        0.000000       5.560000       0.000000   \n",
       "75%            0.000000        0.000000      20.000000       0.001290   \n",
       "max           95.238000        0.800000     100.000000      50.000000   \n",
       "\n",
       "       saturated_fat_100g      salt_100g  \n",
       "count       208963.000000  208963.000000  \n",
       "mean             4.983800       1.253788  \n",
       "std              7.539092       3.965839  \n",
       "min              0.000000       0.000000  \n",
       "25%              0.000000       0.101600  \n",
       "50%              1.790000       0.662940  \n",
       "75%              7.140000       1.371600  \n",
       "max            100.000000     100.000000  "
      ]
     },
     "execution_count": 108,
     "metadata": {},
     "output_type": "execute_result"
    }
   ],
   "source": [
    "clean_df[elements_columns].describe()"
   ]
  },
  {
   "cell_type": "markdown",
   "metadata": {
    "tags": []
   },
   "source": [
    "##### Les additifs"
   ]
  },
  {
   "cell_type": "code",
   "execution_count": 68,
   "metadata": {},
   "outputs": [
    {
     "name": "stdout",
     "output_type": "stream",
     "text": [
      "-----------------------------------Pourcentage de NaN-----------------------------------\n",
      "additives_fr      0.475077\n",
      "additives         0.164805\n",
      "additives_n       0.164687\n",
      "additives_tags    0.475077\n",
      "dtype: float64\n",
      "------------------------------Compte des valeurs par variable------------------------------\n",
      "--------------------------------------additives_fr--------------------------------------\n",
      "NaN                                              132118\n",
      "E322 - Lécithines                                  7907\n",
      "E330 - Acide citrique                              7148\n",
      "E375 - Acide nicotinique,E101 - Riboflavine        6864\n",
      "E300 - Acide ascorbique                            2842\n",
      "E415 - Gomme xanthane                              2183\n",
      "E440 - Pectines                                    1491\n",
      "E100 - Curcumine                                   1188\n",
      "E330 - Acide citrique,E300 - Acide ascorbique      1120\n",
      "E150a - Caramel E150a                               927\n",
      "Name: additives_fr, dtype: int64\n",
      "-----------------------------------------additives-----------------------------------------\n",
      "NaN                                                                                                                                                                                                                                                                                                                                                                                                                                                                     45832\n",
      " [ semoule-de-ble-dur-de-qualite-superieure -> fr:semoule-de-ble-dur-de-qualite-superieure  ]  [ semoule-de-ble-dur-de-qualite -> fr:semoule-de-ble-dur-de-qualite  ]  [ semoule-de-ble-dur-de -> fr:semoule-de-ble-dur-de  ]  [ semoule-de-ble-dur -> fr:semoule-de-ble-dur  ]  [ semoule-de-ble -> fr:semoule-de-ble  ]  [ semoule-de -> fr:semoule-de  ]  [ semoule -> fr:semoule  ]                                                                                   195\n",
      " [ almonds -> en:almonds  ]                                                                                                                                                                                                                                                                                                                                                                                                                                               193\n",
      " [ 100-semoule-de-ble-dur-de-qualite-superieure -> fr:100-semoule-de-ble-dur-de-qualite-superieure  ]  [ 100-semoule-de-ble-dur-de-qualite -> fr:100-semoule-de-ble-dur-de-qualite  ]  [ 100-semoule-de-ble-dur-de -> fr:100-semoule-de-ble-dur-de  ]  [ 100-semoule-de-ble-dur -> fr:100-semoule-de-ble-dur  ]  [ 100-semoule-de-ble -> fr:100-semoule-de-ble  ]  [ 100-semoule-de -> fr:100-semoule-de  ]  [ 100-semoule -> fr:100-semoule  ]  [ 100 -> fr:100  ]       151\n",
      " [ extra-virgin-olive-oil -> en:extra-virgin-olive-oil  ]  [ virgin-olive-oil -> en:virgin-olive-oil  ]  [ olive-oil -> en:olive-oil  ]  [ oil -> en:oil  ]                                                                                                                                                                                                                                                                                                               105\n",
      " [ jus-d-orange -> fr:jus-d-orange  ]  [ jus-d -> fr:jus-d  ]  [ jus -> fr:jus  ]                                                                                                                                                                                                                                                                                                                                                                                          90\n",
      " [ walnuts -> en:walnuts  ]                                                                                                                                                                                                                                                                                                                                                                                                                                                89\n",
      " [ contient-des-sulfites -> fr:contient-des-sulfites  ]  [ contient-des -> fr:contient-des  ]  [ contient -> fr:contient  ]                                                                                                                                                                                                                                                                                                                                                87\n",
      " [ pecans -> en:pecans  ]                                                                                                                                                                                                                                                                                                                                                                                                                                                  86\n",
      " [ beef -> en:beef  ]                                                                                                                                                                                                                                                                                                                                                                                                                                                      85\n",
      "Name: additives, dtype: int64\n",
      "---------------------------------------additives_n---------------------------------------\n",
      "0.0     86319\n",
      "NaN     45799\n",
      "1.0     43628\n",
      "2.0     34246\n",
      "3.0     22350\n",
      "4.0     14470\n",
      "5.0     10375\n",
      "6.0      6891\n",
      "7.0      4496\n",
      "8.0      3224\n",
      "9.0      2109\n",
      "10.0     1312\n",
      "Name: additives_n, dtype: int64\n",
      "------------------------------------additives_tags------------------------------------\n",
      "NaN                132118\n",
      "en:e322              7907\n",
      "en:e330              7148\n",
      "en:e375,en:e101      6864\n",
      "en:e300              2842\n",
      "en:e415              2183\n",
      "en:e440              1491\n",
      "en:e100              1188\n",
      "en:e330,en:e300      1120\n",
      "en:e150a              927\n",
      "Name: additives_tags, dtype: int64\n"
     ]
    }
   ],
   "source": [
    "describe_qualitative_columns(start_work_df, additives_columns)"
   ]
  },
  {
   "cell_type": "code",
   "execution_count": 69,
   "metadata": {},
   "outputs": [
    {
     "data": {
      "image/png": "[encoded data removed]",
      "text/plain": [
       "<Figure size 432x288 with 2 Axes>"
      ]
     },
     "metadata": {
      "needs_background": "light"
     },
     "output_type": "display_data"
    }
   ],
   "source": [
    "heatmap_nan_sorted(work_df, additives_columns)"
   ]
  },
  {
   "cell_type": "markdown",
   "metadata": {},
   "source": [
    "Le nombre d'additifs est la colonne la plus renseignée."
   ]
  },
  {
   "cell_type": "code",
   "execution_count": 70,
   "metadata": {},
   "outputs": [
    {
     "data": {
      "text/plain": [
       "16.468654934591402"
      ]
     },
     "execution_count": 70,
     "metadata": {},
     "output_type": "execute_result"
    }
   ],
   "source": [
    "len(pd.Series(nan_indices(work_df['additives_n'])))*100/work_df.shape[0]"
   ]
  },
  {
   "cell_type": "markdown",
   "metadata": {},
   "source": [
    "Le pourcentage de NaN est non négligable : 16%.  \n",
    "On choisit de remplacer les valeurs par la moyenne du nutriscore correspondant."
   ]
  },
  {
   "cell_type": "code",
   "execution_count": 71,
   "metadata": {},
   "outputs": [
    {
     "data": {
      "text/plain": [
       "nutrition_grade_fr\n",
       "a    1\n",
       "b    2\n",
       "c    2\n",
       "d    3\n",
       "e    2\n",
       "Name: additives_n, dtype: int64"
      ]
     },
     "execution_count": 71,
     "metadata": {},
     "output_type": "execute_result"
    }
   ],
   "source": [
    "score_means = work_df.groupby(['nutrition_grade_fr']).mean()['additives_n']\n",
    "score_means.to_dict()\n",
    "score_means.apply(round)"
   ]
  },
  {
   "cell_type": "code",
   "execution_count": 72,
   "metadata": {},
   "outputs": [
    {
     "data": {
      "text/plain": [
       "0         NaN\n",
       "1         0.0\n",
       "2         0.0\n",
       "3         0.0\n",
       "4         0.0\n",
       "         ... \n",
       "320742    0.0\n",
       "320743    NaN\n",
       "320745    0.0\n",
       "320746    NaN\n",
       "320748    7.0\n",
       "Name: additives_n, Length: 278098, dtype: float64"
      ]
     },
     "execution_count": 72,
     "metadata": {},
     "output_type": "execute_result"
    }
   ],
   "source": [
    "work_df['additives_n'].fillna(work_df['nutrition_grade_fr'])\n",
    "work_df['additives_n'].replace(score_means.to_dict())"
   ]
  },
  {
   "cell_type": "code",
   "execution_count": 73,
   "metadata": {},
   "outputs": [],
   "source": [
    "work_df['additives_n'] = work_df['additives_n'].fillna(0)"
   ]
  },
  {
   "cell_type": "code",
   "execution_count": 74,
   "metadata": {},
   "outputs": [],
   "source": [
    "non_relevant_columns.update({'additives', 'additives_tags', 'additives_fr'})"
   ]
  },
  {
   "cell_type": "markdown",
   "metadata": {},
   "source": [
    "On convertit le type de la colonne en entier."
   ]
  },
  {
   "cell_type": "code",
   "execution_count": 75,
   "metadata": {},
   "outputs": [],
   "source": [
    "work_df['additives_n'] = work_df['additives_n'].astype('int64')"
   ]
  },
  {
   "cell_type": "markdown",
   "metadata": {
    "tags": []
   },
   "source": [
    "##### Les colonnes sur l'huile de palme"
   ]
  },
  {
   "cell_type": "code",
   "execution_count": 76,
   "metadata": {},
   "outputs": [
    {
     "name": "stdout",
     "output_type": "stream",
     "text": [
      "-----------------------------------Pourcentage de NaN-----------------------------------\n",
      "palm_oil_n           0.164687\n",
      "may_be_palm_oil_n    0.164687\n",
      "dtype: float64\n",
      "------------------------------Compte des valeurs par variable------------------------------\n",
      "----------------------------------------palm_oil_n----------------------------------------\n",
      "0.0    227468\n",
      "NaN     45799\n",
      "1.0      4772\n",
      "2.0        59\n",
      "Name: palm_oil_n, dtype: int64\n",
      "---------------------------------may_be_palm_oil_n---------------------------------\n",
      "0.0    220970\n",
      "NaN     45799\n",
      "1.0      9670\n",
      "2.0      1321\n",
      "3.0       286\n",
      "4.0        45\n",
      "5.0         6\n",
      "6.0         1\n",
      "Name: may_be_palm_oil_n, dtype: int64\n"
     ]
    }
   ],
   "source": [
    "describe_qualitative_columns(start_work_df, palm_oil_columns)"
   ]
  },
  {
   "cell_type": "code",
   "execution_count": 77,
   "metadata": {},
   "outputs": [
    {
     "data": {
      "image/png": "[encoded data removed]",
      "text/plain": [
       "<Figure size 432x288 with 2 Axes>"
      ]
     },
     "metadata": {
      "needs_background": "light"
     },
     "output_type": "display_data"
    }
   ],
   "source": [
    "heatmap_nan_sorted(work_df, palm_oil_columns)"
   ]
  },
  {
   "cell_type": "markdown",
   "metadata": {},
   "source": [
    "On peut regrouper les deux variables en une variable booléenne qui dira si l'aliment peut contenir de l'huile de palme ou non."
   ]
  },
  {
   "cell_type": "code",
   "execution_count": 78,
   "metadata": {},
   "outputs": [],
   "source": [
    "work_df['palm_oil'] = (work_df.may_be_palm_oil_n > 0) | (work_df.palm_oil_n > 0)"
   ]
  },
  {
   "cell_type": "markdown",
   "metadata": {},
   "source": [
    "On remplace donc les deux colonnes par cette nouvelle colonne."
   ]
  },
  {
   "cell_type": "code",
   "execution_count": 79,
   "metadata": {},
   "outputs": [],
   "source": [
    "non_relevant_columns.update({'may_be_palm_oil_n', 'palm_oil_n'})"
   ]
  },
  {
   "cell_type": "markdown",
   "metadata": {
    "tags": []
   },
   "source": [
    "##### La liste des ingrédients"
   ]
  },
  {
   "cell_type": "code",
   "execution_count": 80,
   "metadata": {},
   "outputs": [
    {
     "name": "stdout",
     "output_type": "stream",
     "text": [
      "-----------------------------------Pourcentage de NaN-----------------------------------\n",
      "ingredients_text    0.164687\n",
      "dtype: float64\n",
      "------------------------------Compte des valeurs par variable------------------------------\n",
      "----------------------------------ingredients_text----------------------------------\n",
      "NaN                                                                                                                    45799\n",
      "Almonds.                                                                                                                 154\n",
      "Semoule de _blé_ dur de qualité supérieure.                                                                              108\n",
      "Semolina (wheat), durum flour (wheat), niacin, ferrous sulfate (iron), thiamin mononitrate, riboflavin, folic acid.       77\n",
      "Pasteurized milk, cheese culture, salt, enzymes.                                                                          66\n",
      "Walnuts.                                                                                                                  64\n",
      "Pecans.                                                                                                                   62\n",
      "100 % semoule de _blé_ dur de qualité supérieure.                                                                         60\n",
      "Pasteurized milk, cheese cultures, salt, enzymes.                                                                         55\n",
      "Pasteurized part-skim milk, cheese culture, salt, enzymes.                                                                52\n",
      "Name: ingredients_text, dtype: int64\n"
     ]
    }
   ],
   "source": [
    "describe_qualitative_columns(start_work_df, ['ingredients_text'])"
   ]
  },
  {
   "cell_type": "markdown",
   "metadata": {},
   "source": [
    "La donnée est complexe à interpréter."
   ]
  },
  {
   "cell_type": "code",
   "execution_count": 81,
   "metadata": {},
   "outputs": [],
   "source": [
    "non_relevant_columns.add('ingredients_text')"
   ]
  },
  {
   "cell_type": "markdown",
   "metadata": {},
   "source": [
    "##### Allergènes"
   ]
  },
  {
   "cell_type": "code",
   "execution_count": 82,
   "metadata": {},
   "outputs": [
    {
     "name": "stdout",
     "output_type": "stream",
     "text": [
      "-----------------------------------Pourcentage de NaN-----------------------------------\n",
      "allergens    0.898223\n",
      "dtype: float64\n",
      "------------------------------Compte des valeurs par variable------------------------------\n",
      "-----------------------------------------allergens-----------------------------------------\n",
      "NaN           249794\n",
      "blé             1276\n",
      "Lait             830\n",
      "lait             701\n",
      "soja             513\n",
      "sulfites         398\n",
      "céleri           274\n",
      "Lait, lait       274\n",
      "orge             246\n",
      "lactose          231\n",
      "Name: allergens, dtype: int64\n"
     ]
    }
   ],
   "source": [
    "describe_qualitative_columns(start_work_df, ['allergens'])"
   ]
  },
  {
   "cell_type": "markdown",
   "metadata": {},
   "source": [
    "Un grand nombre de NaN mais on peut supposer que l'absence de données peut signifier qu'il n'y en a pas.  \n",
    "On recode la donnée en un booléen qui dit s'il y a ou non des allergènes."
   ]
  },
  {
   "cell_type": "code",
   "execution_count": 83,
   "metadata": {},
   "outputs": [],
   "source": [
    "work_df.allergens = work_df.allergens.notnull()"
   ]
  },
  {
   "cell_type": "markdown",
   "metadata": {
    "tags": []
   },
   "source": [
    "#### Energie"
   ]
  },
  {
   "cell_type": "code",
   "execution_count": 109,
   "metadata": {},
   "outputs": [
    {
     "data": {
      "text/plain": [
       "count    2.089630e+05\n",
       "mean     1.196796e+03\n",
       "std      7.163919e+03\n",
       "min      0.000000e+00\n",
       "25%      4.640000e+02\n",
       "50%      1.184000e+03\n",
       "75%      1.724000e+03\n",
       "max      3.251373e+06\n",
       "Name: energy_100g, dtype: float64"
      ]
     },
     "execution_count": 109,
     "metadata": {},
     "output_type": "execute_result"
    }
   ],
   "source": [
    "clean_df['energy_100g'].describe()"
   ]
  },
  {
   "cell_type": "code",
   "execution_count": 111,
   "metadata": {
    "tags": []
   },
   "outputs": [
    {
     "data": {
      "text/plain": [
       "12.20612877474847"
      ]
     },
     "execution_count": 111,
     "metadata": {},
     "output_type": "execute_result"
    }
   ],
   "source": [
    "len(pd.Series(nan_indices(work_df['energy_100g'])))*100/work_df.shape[0]"
   ]
  },
  {
   "cell_type": "code",
   "execution_count": 112,
   "metadata": {
    "tags": []
   },
   "outputs": [
    {
     "data": {
      "text/plain": [
       "0.0"
      ]
     },
     "execution_count": 112,
     "metadata": {},
     "output_type": "execute_result"
    }
   ],
   "source": [
    "len(pd.Series(nan_indices(clean_df['energy_100g'])))*100/clean_df.shape[0]"
   ]
  },
  {
   "cell_type": "code",
   "execution_count": 113,
   "metadata": {},
   "outputs": [
    {
     "data": {
      "text/plain": [
       "0.24667563233104878"
      ]
     },
     "execution_count": 113,
     "metadata": {},
     "output_type": "execute_result"
    }
   ],
   "source": [
    "energy_outliers = pd.Series(outliers_indices_IQR(clean_df['energy_100g']))\n",
    "len(energy_outliers)*100/work_df.shape[0]"
   ]
  },
  {
   "cell_type": "code",
   "execution_count": 114,
   "metadata": {},
   "outputs": [
    {
     "data": {
      "text/plain": [
       "686"
      ]
     },
     "execution_count": 114,
     "metadata": {},
     "output_type": "execute_result"
    }
   ],
   "source": [
    "len(energy_outliers)"
   ]
  },
  {
   "cell_type": "markdown",
   "metadata": {},
   "source": [
    "On compte :\n",
    "- un nombre non négligeable de NaN : 12% mais ils coïncident avec les NaN du nutriscore.\n",
    "- assez peu d'outliers : 686 (0.25%)\n",
    "\n",
    "On choisit de supprimer les lignes avec les outliers, pas de traitement nécessaire pour les NaN (déjà retiré par le traitement pour le score de nutrition)"
   ]
  },
  {
   "cell_type": "code",
   "execution_count": 117,
   "metadata": {},
   "outputs": [],
   "source": [
    "work_df['energy_100g'].fillna(work_df['energy_100g'].mean(), inplace=True)\n",
    "energy_outliers_work = pd.Series(outliers_indices_IQR(work_df['energy_100g']))\n",
    "work_df.drop(energy_outliers_work, inplace=True)"
   ]
  },
  {
   "cell_type": "code",
   "execution_count": 118,
   "metadata": {},
   "outputs": [],
   "source": [
    "clean_df.drop(energy_outliers, inplace=True)"
   ]
  },
  {
   "cell_type": "markdown",
   "metadata": {
    "tags": []
   },
   "source": [
    "#### h) Score de nutrition"
   ]
  },
  {
   "cell_type": "markdown",
   "metadata": {},
   "source": [
    "Les variables de score de nutrition informent directement sur la qualité de l'aliment pour la santé.   \n",
    "La variable cible pour notre étude sera donc une variable nutrition score. "
   ]
  },
  {
   "cell_type": "code",
   "execution_count": 84,
   "metadata": {
    "tags": []
   },
   "outputs": [],
   "source": [
    "nutriscore_columns = {'nutrition_score_fr_100g',\n",
    "                      'nutrition_score_uk_100g',\n",
    "                      'nutrition_grade_fr',}"
   ]
  },
  {
   "cell_type": "code",
   "execution_count": 85,
   "metadata": {},
   "outputs": [
    {
     "name": "stdout",
     "output_type": "stream",
     "text": [
      "-----------------------------------Pourcentage de NaN-----------------------------------\n",
      "nutrition_grade_fr         0.247585\n",
      "nutrition_score_fr_100g    0.247585\n",
      "nutrition_score_uk_100g    0.247585\n",
      "dtype: float64\n",
      "------------------------------Compte des valeurs par variable------------------------------\n",
      "--------------------------------nutrition_grade_fr--------------------------------\n",
      "NaN    68853\n",
      "d      60134\n",
      "c      43703\n",
      "e      40681\n",
      "a      32784\n",
      "b      31943\n",
      "Name: nutrition_grade_fr, dtype: int64\n",
      "---------------------------nutrition_score_fr_100g---------------------------\n",
      " NaN     68853\n",
      " 0.0     11754\n",
      " 14.0    10700\n",
      " 1.0     10547\n",
      " 2.0     10030\n",
      " 13.0     8502\n",
      " 11.0     8382\n",
      " 12.0     8309\n",
      "-1.0      8211\n",
      " 3.0      7578\n",
      " 15.0     7260\n",
      " 10.0     6713\n",
      "Name: nutrition_score_fr_100g, dtype: int64\n",
      "---------------------------nutrition_score_uk_100g---------------------------\n",
      " NaN     68853\n",
      " 0.0     12577\n",
      " 1.0     11210\n",
      " 2.0     10504\n",
      " 14.0    10137\n",
      "-1.0      8234\n",
      " 13.0     8085\n",
      " 12.0     7890\n",
      " 11.0     7822\n",
      " 3.0      7341\n",
      " 20.0     6925\n",
      " 15.0     6657\n",
      " 10.0     6252\n",
      "Name: nutrition_score_uk_100g, dtype: int64\n"
     ]
    }
   ],
   "source": [
    "describe_qualitative_columns(start_work_df, nutriscore_columns)"
   ]
  },
  {
   "cell_type": "markdown",
   "metadata": {},
   "source": [
    "On compte beaucoup de NaN, de l'ordre de 25%. Cependant la variable est centrale dans notre étude.  \n",
    "La variable nutrition_grade_fr semble la plus appropriée pour réaliser une étude (avec moins de catégorie, et plus parlante)"
   ]
  },
  {
   "cell_type": "code",
   "execution_count": 86,
   "metadata": {},
   "outputs": [],
   "source": [
    "clean_df = work_df.dropna(subset=['nutrition_grade_fr'])"
   ]
  },
  {
   "cell_type": "code",
   "execution_count": 87,
   "metadata": {},
   "outputs": [
    {
     "data": {
      "image/png": "[encoded data removed]",
      "text/plain": [
       "<Figure size 432x288 with 2 Axes>"
      ]
     },
     "metadata": {
      "needs_background": "light"
     },
     "output_type": "display_data"
    }
   ],
   "source": [
    "heatmap_nan_sorted(start_work_df,nutriscore_columns)"
   ]
  },
  {
   "cell_type": "markdown",
   "metadata": {},
   "source": [
    "Les NaN coïncident, il n'y pas d'informations à reprendre des autres colonnes de score de nutrition."
   ]
  },
  {
   "cell_type": "code",
   "execution_count": 88,
   "metadata": {},
   "outputs": [],
   "source": [
    "non_relevant_columns.update({'nutrition_score_fr_100g', 'nutrition_score_uk_100g'})"
   ]
  },
  {
   "cell_type": "markdown",
   "metadata": {},
   "source": [
    "##### Lieu"
   ]
  },
  {
   "cell_type": "code",
   "execution_count": 140,
   "metadata": {},
   "outputs": [],
   "source": [
    "clean_df.countries_fr.fillna('Inconnu', inplace=True)"
   ]
  },
  {
   "cell_type": "markdown",
   "metadata": {},
   "source": [
    "### Bilan"
   ]
  },
  {
   "cell_type": "code",
   "execution_count": 89,
   "metadata": {},
   "outputs": [],
   "source": [
    "work_df = work_df.drop(columns=non_relevant_columns)"
   ]
  },
  {
   "cell_type": "code",
   "execution_count": 90,
   "metadata": {},
   "outputs": [
    {
     "data": {
      "text/plain": [
       "Index(['brands', 'labels_fr', 'countries_fr', 'allergens', 'additives_n',\n",
       "       'nutrition_grade_fr', 'energy_100g', 'fat_100g', 'saturated_fat_100g',\n",
       "       'trans_fat_100g', 'cholesterol_100g', 'carbohydrates_100g',\n",
       "       'sugars_100g', 'fiber_100g', 'proteins_100g', 'salt_100g',\n",
       "       'sodium_100g', 'vitamin_a_100g', 'vitamin_c_100g', 'calcium_100g',\n",
       "       'iron_100g', 'category', 'palm_oil'],\n",
       "      dtype='object')"
      ]
     },
     "execution_count": 90,
     "metadata": {},
     "output_type": "execute_result"
    }
   ],
   "source": [
    "work_df.columns"
   ]
  },
  {
   "cell_type": "code",
   "execution_count": 91,
   "metadata": {},
   "outputs": [
    {
     "data": {
      "text/plain": [
       "brands                 object\n",
       "labels_fr                bool\n",
       "countries_fr           object\n",
       "allergens                bool\n",
       "additives_n             int64\n",
       "nutrition_grade_fr     object\n",
       "energy_100g           float64\n",
       "fat_100g              float64\n",
       "saturated_fat_100g    float64\n",
       "trans_fat_100g        float64\n",
       "cholesterol_100g      float64\n",
       "carbohydrates_100g    float64\n",
       "sugars_100g           float64\n",
       "fiber_100g            float64\n",
       "proteins_100g         float64\n",
       "salt_100g             float64\n",
       "sodium_100g           float64\n",
       "vitamin_a_100g        float64\n",
       "vitamin_c_100g        float64\n",
       "calcium_100g          float64\n",
       "iron_100g             float64\n",
       "category               object\n",
       "palm_oil                 bool\n",
       "dtype: object"
      ]
     },
     "execution_count": 91,
     "metadata": {},
     "output_type": "execute_result"
    }
   ],
   "source": [
    "work_df.dtypes"
   ]
  },
  {
   "cell_type": "markdown",
   "metadata": {
    "tags": []
   },
   "source": [
    "#### Mise à jour Int"
   ]
  },
  {
   "cell_type": "code",
   "execution_count": 92,
   "metadata": {},
   "outputs": [],
   "source": [
    "# for column in non_relevant_columns:\n",
    "#     if column in int_columns:\n",
    "#         int_columns.remove(column)\n",
    "\n",
    "# for column in int_columns:\n",
    "#     work_df[column] = work_df[column].astype(np.int64)"
   ]
  },
  {
   "cell_type": "markdown",
   "metadata": {},
   "source": [
    "On convertit les colonnes entières qui ne l'avait pas été fait à cause des NaN lors du chargement du csv."
   ]
  },
  {
   "cell_type": "markdown",
   "metadata": {},
   "source": [
    "## Traitement"
   ]
  },
  {
   "cell_type": "markdown",
   "metadata": {},
   "source": [
    "## Analyse univariée"
   ]
  },
  {
   "cell_type": "markdown",
   "metadata": {
    "tags": []
   },
   "source": [
    "### 1. Variables catégorielles"
   ]
  },
  {
   "cell_type": "markdown",
   "metadata": {
    "jp-MarkdownHeadingCollapsed": true,
    "tags": []
   },
   "source": [
    "#### a) Nutriscore"
   ]
  },
  {
   "cell_type": "code",
   "execution_count": 205,
   "metadata": {},
   "outputs": [
    {
     "data": {
      "image/png": "[encoded data removed]",
      "text/plain": [
       "<Figure size 432x288 with 1 Axes>"
      ]
     },
     "metadata": {},
     "output_type": "display_data"
    }
   ],
   "source": [
    "plt.figure()\n",
    "clean_df.nutrition_grade_fr.value_counts().plot.pie(legend=True, labels=None, title='Figure 1 : Distribution des nutriscores', autopct='%1.2f%%')\n",
    "plt.legend(clean_df.nutrition_grade_fr.value_counts(dropna=True).index, loc=5, bbox_to_anchor=(1.20,0.5))\n",
    "plt.savefig('pie_nutriscore.png', bbox_inches=\"tight\")\n",
    "plt.show()"
   ]
  },
  {
   "cell_type": "markdown",
   "metadata": {},
   "source": [
    "On remarque que le score D est le plus représenté alors que les scores A et B sont les moins représentés."
   ]
  },
  {
   "cell_type": "code",
   "execution_count": 206,
   "metadata": {},
   "outputs": [],
   "source": [
    "encode = {\n",
    "    'a':1,\n",
    "    'b':2,\n",
    "    'c':3,\n",
    "    'd':4,\n",
    "    'e':5,\n",
    "}\n",
    "clean_df['nutrition_grade_fr'].replace(encode, inplace=True)"
   ]
  },
  {
   "cell_type": "markdown",
   "metadata": {
    "jp-MarkdownHeadingCollapsed": true,
    "tags": []
   },
   "source": [
    "#### b) Catégorie"
   ]
  },
  {
   "cell_type": "code",
   "execution_count": 207,
   "metadata": {},
   "outputs": [
    {
     "data": {
      "image/png": "[encoded data removed]",
      "text/plain": [
       "<Figure size 504x720 with 1 Axes>"
      ]
     },
     "metadata": {},
     "output_type": "display_data"
    }
   ],
   "source": [
    "plt.figure()\n",
    "work_df['category'].value_counts(dropna=True).plot.pie(labels=None, figsize=(7,10), autopct='%1.2f%%', title='Figure 2 : Distribution des catégories')\n",
    "plt.legend(work_df['category'].value_counts(dropna=True).index, loc=5, bbox_to_anchor=(1.40,0.5))\n",
    "plt.savefig('pie_category.png', bbox_inches=\"tight\")\n",
    "plt.show()"
   ]
  },
  {
   "cell_type": "markdown",
   "metadata": {
    "jp-MarkdownHeadingCollapsed": true,
    "tags": []
   },
   "source": [
    "#### c) Pays"
   ]
  },
  {
   "cell_type": "code",
   "execution_count": 136,
   "metadata": {},
   "outputs": [],
   "source": [
    "work_df['countries_fr'] = work_df['countries_fr'].fillna('Inconnu')"
   ]
  },
  {
   "cell_type": "code",
   "execution_count": 137,
   "metadata": {},
   "outputs": [],
   "source": [
    "countries = work_df['countries_fr']\n",
    "multiple_countries = countries[countries.str.contains(',', regex=False)]\n",
    "countries.drop(multiple_countries.index, inplace=True)\n",
    "for m in multiple_countries.tolist():\n",
    "    countries.append(pd.Series(m.split()))"
   ]
  },
  {
   "cell_type": "code",
   "execution_count": 138,
   "metadata": {},
   "outputs": [],
   "source": [
    "others = countries.value_counts().sum() - countries.value_counts()[:9].sum()\n",
    "top_countries = countries.value_counts().head(9).append(pd.Series([others], index=[\"Autres\"]))"
   ]
  },
  {
   "cell_type": "code",
   "execution_count": 208,
   "metadata": {},
   "outputs": [
    {
     "data": {
      "image/png": "[encoded data removed]",
      "text/plain": [
       "<Figure size 432x288 with 1 Axes>"
      ]
     },
     "metadata": {
      "needs_background": "light"
     },
     "output_type": "display_data"
    }
   ],
   "source": [
    "plt.figure()\n",
    "top_countries.plot(kind='bar', title='Figure 3 : Diagramme en barre des pays')\n",
    "plt.savefig(fname='barplot_countries.png', bbox_inches=\"tight\")\n",
    "plt.show()"
   ]
  },
  {
   "cell_type": "markdown",
   "metadata": {
    "jp-MarkdownHeadingCollapsed": true,
    "tags": []
   },
   "source": [
    "#### d) Marque"
   ]
  },
  {
   "cell_type": "code",
   "execution_count": 157,
   "metadata": {},
   "outputs": [],
   "source": [
    "other_brands = work_df.brands.value_counts().sum() - work_df.brands.value_counts()[1:10].sum()\n",
    "top_brands = work_df.brands.value_counts().head(10)[1:10].append(pd.Series([others], index=[\"Autres\"]))"
   ]
  },
  {
   "cell_type": "code",
   "execution_count": 212,
   "metadata": {},
   "outputs": [
    {
     "data": {
      "image/png": "[encoded data removed]",
      "text/plain": [
       "<Figure size 576x576 with 1 Axes>"
      ]
     },
     "metadata": {},
     "output_type": "display_data"
    }
   ],
   "source": [
    "plt.figure()\n",
    "top_brands.plot.pie(labels=None, figsize=(8,8), autopct='%1.2f%%', title='Figure 4 : Distribution des marques')\n",
    "plt.legend(top_brands.index, loc=5, bbox_to_anchor=(1.20,0.5))\n",
    "plt.savefig(fname='pie_brands.png', bbox_inches=\"tight\")\n",
    "plt.show()"
   ]
  },
  {
   "cell_type": "markdown",
   "metadata": {
    "tags": []
   },
   "source": [
    "### 2 Variables booléennes"
   ]
  },
  {
   "cell_type": "markdown",
   "metadata": {
    "jp-MarkdownHeadingCollapsed": true,
    "tags": []
   },
   "source": [
    "#### a) Label"
   ]
  },
  {
   "cell_type": "code",
   "execution_count": 213,
   "metadata": {},
   "outputs": [
    {
     "data": {
      "image/png": "[encoded data removed]",
      "text/plain": [
       "<Figure size 360x360 with 1 Axes>"
      ]
     },
     "metadata": {},
     "output_type": "display_data"
    }
   ],
   "source": [
    "plt.figure()\n",
    "work_df['labels_fr'].value_counts().plot.pie(figsize=(5,5), autopct='%1.2f%%', title=\"Figure 5: Distribution des labels\")\n",
    "plt.savefig(fname='pie_labels.png', bbox_inches=\"tight\")\n",
    "plt.show()"
   ]
  },
  {
   "cell_type": "markdown",
   "metadata": {
    "jp-MarkdownHeadingCollapsed": true,
    "tags": []
   },
   "source": [
    "#### b) Huile de palme"
   ]
  },
  {
   "cell_type": "code",
   "execution_count": 214,
   "metadata": {},
   "outputs": [
    {
     "data": {
      "image/png": "[encoded data removed]",
      "text/plain": [
       "<Figure size 360x360 with 1 Axes>"
      ]
     },
     "metadata": {},
     "output_type": "display_data"
    }
   ],
   "source": [
    "plt.figure()\n",
    "work_df['palm_oil'].value_counts().plot.pie(figsize=(5,5), autopct='%1.2f%%', title=\"Figure 6: Distribution de l'huile de palme\")\n",
    "plt.savefig(fname='pie_palm_oil.png', bbox_inches=\"tight\")\n",
    "plt.show()"
   ]
  },
  {
   "cell_type": "markdown",
   "metadata": {
    "jp-MarkdownHeadingCollapsed": true,
    "tags": []
   },
   "source": [
    "#### c) Les allergènes"
   ]
  },
  {
   "cell_type": "code",
   "execution_count": 215,
   "metadata": {},
   "outputs": [
    {
     "data": {
      "image/png": "[encoded data removed]",
      "text/plain": [
       "<Figure size 360x360 with 1 Axes>"
      ]
     },
     "metadata": {},
     "output_type": "display_data"
    }
   ],
   "source": [
    "plt.figure()\n",
    "work_df['allergens'].value_counts().plot.pie(figsize=(5,5), autopct='%1.2f%%', title=\"Figure 7: Distribution des allergènes\")\n",
    "plt.savefig(fname='pie_allergens.png', bbox_inches=\"tight\")\n",
    "plt.show()"
   ]
  },
  {
   "cell_type": "markdown",
   "metadata": {},
   "source": [
    "### 3 Variables quantitatives"
   ]
  },
  {
   "cell_type": "markdown",
   "metadata": {
    "jp-MarkdownHeadingCollapsed": true,
    "tags": []
   },
   "source": [
    "#### a) Eléments nutritionnels"
   ]
  },
  {
   "cell_type": "code",
   "execution_count": 95,
   "metadata": {},
   "outputs": [
    {
     "data": {
      "text/plain": [
       "{'calcium_100g',\n",
       " 'carbohydrates_100g',\n",
       " 'cholesterol_100g',\n",
       " 'fat_100g',\n",
       " 'fiber_100g',\n",
       " 'iron_100g',\n",
       " 'proteins_100g',\n",
       " 'salt_100g',\n",
       " 'saturated_fat_100g',\n",
       " 'sodium_100g',\n",
       " 'sugars_100g',\n",
       " 'trans_fat_100g',\n",
       " 'vitamin_a_100g',\n",
       " 'vitamin_c_100g'}"
      ]
     },
     "execution_count": 95,
     "metadata": {},
     "output_type": "execute_result"
    }
   ],
   "source": [
    "elements_columns"
   ]
  },
  {
   "cell_type": "code",
   "execution_count": 96,
   "metadata": {},
   "outputs": [],
   "source": [
    "classic_elements = {\n",
    "    'calcium_100g',\n",
    "    'carbohydrates_100g',\n",
    "    'cholesterol_100g',\n",
    "    'fat_100g',\n",
    "    'fiber_100g',\n",
    "    'iron_100g',\n",
    "    'proteins_100g',\n",
    "    'salt_100g',\n",
    "    'saturated_fat_100g',\n",
    "    'sodium_100g',\n",
    "    'sugars_100g',\n",
    "    'vitamin_a_100g',\n",
    "}\n",
    "particular_elements = {\n",
    "    'trans_fat_100g',\n",
    "    'vitamin_c_100g'\n",
    "}"
   ]
  },
  {
   "cell_type": "code",
   "execution_count": 220,
   "metadata": {},
   "outputs": [
    {
     "data": {
      "image/png": "[encoded data removed]",
      "text/plain": [
       "<Figure size 1440x1440 with 14 Axes>"
      ]
     },
     "metadata": {
      "needs_background": "light"
     },
     "output_type": "display_data"
    }
   ],
   "source": [
    "plt.figure(figsize=(20,20))\n",
    "plt.title(\"Figure 8: Diagramme en boîte des éléments nutritionnels\")\n",
    "for count, element in enumerate(classic_elements):\n",
    "    plt.subplot(4, 4, count+1)\n",
    "    sns.boxplot(x=clean_outliers(work_df[element]))\n",
    "for count, element in enumerate(particular_elements):\n",
    "    plt.subplot(4, 4, count+13)\n",
    "    sns.boxplot(x=clean_zeros(work_df[element]))\n",
    "plt.savefig(fname=\"elements_boxplot.png\")\n",
    "plt.show()"
   ]
  },
  {
   "cell_type": "markdown",
   "metadata": {},
   "source": [
    "On remarque que les quantités de vitamine C, d'acide gras trans ont une grande part de leur individus à 0."
   ]
  },
  {
   "cell_type": "markdown",
   "metadata": {
    "jp-MarkdownHeadingCollapsed": true,
    "tags": []
   },
   "source": [
    "#### b) L'énergie :"
   ]
  },
  {
   "cell_type": "markdown",
   "metadata": {},
   "source": [
    "Il est difficile de définir des plafonds pour les valeurs aberrantes.\n",
    "On utilise l'IQR pour comptabiliser leur nombre."
   ]
  },
  {
   "cell_type": "code",
   "execution_count": 110,
   "metadata": {},
   "outputs": [
    {
     "data": {
      "image/png": "[encoded data removed]",
      "text/plain": [
       "<Figure size 432x288 with 1 Axes>"
      ]
     },
     "metadata": {
      "needs_background": "light"
     },
     "output_type": "display_data"
    }
   ],
   "source": [
    "plt.figure()\n",
    "sns.boxplot(x=clean_outliers(work_df['energy_100g']))\n",
    "plt.savefig('energy_boxplot.png')"
   ]
  },
  {
   "cell_type": "markdown",
   "metadata": {
    "jp-MarkdownHeadingCollapsed": true,
    "tags": []
   },
   "source": [
    "#### c) Les additifs"
   ]
  },
  {
   "cell_type": "code",
   "execution_count": 127,
   "metadata": {},
   "outputs": [
    {
     "data": {
      "image/png": "[encoded data removed]",
      "text/plain": [
       "<Figure size 432x288 with 1 Axes>"
      ]
     },
     "metadata": {
      "needs_background": "light"
     },
     "output_type": "display_data"
    }
   ],
   "source": [
    "plt.figure()\n",
    "work_df['additives_n'].value_counts().plot(kind='bar')\n",
    "plt.savefig('barplot_additives.png')"
   ]
  },
  {
   "cell_type": "markdown",
   "metadata": {
    "tags": []
   },
   "source": [
    "## Recomposition Nutriscore "
   ]
  },
  {
   "cell_type": "code",
   "execution_count": null,
   "metadata": {},
   "outputs": [],
   "source": [
    "clean_df.isna().sum()"
   ]
  },
  {
   "cell_type": "code",
   "execution_count": null,
   "metadata": {},
   "outputs": [],
   "source": [
    "# energy_level_points = [335, 670, 1005, 1340, 1675, 2010, 2345, 2680, 3015, 3350]\n",
    "# satured_fat_level_points = [1, 2, 3, 4, 5, 6, 7, 8, 9, 10]\n",
    "# sugar_level_points = [4.5, 9, 13.5, 18, 22.5, 27, 31, 36, 40, 45]\n",
    "# sodium_level_points = [90, 180, 270, 360, 450, 540, 720, 810, 900]\n",
    "\n",
    "# fruits_vegetables_nuts_level_points = [40, 60, 60, 60, 80]\n",
    "# fiber_level_points = [0.7, 1.4, 2.1, 2.8, 3.5]\n",
    "# proteins_level_points = [1.6, 3.2, 4.8, 6.4, 8.0]\n",
    "\n",
    "# def level_points(energy, level):\n",
    "#     for i in range(len(level)):\n",
    "#         if energy<= level[i]:\n",
    "#             return i\n",
    "#     return 10\n",
    "\n",
    "\n",
    "\n",
    "# def calculate_nutrition_score_uk(row):\n",
    "#     A_points = level_points(row.energy_100g, energy_level_points)\n",
    "#     + level_points(row.saturated_fat_100g, satured_fat_level_points)\n",
    "#     + level_points(row.sugars_100g, sugar_level_points)\n",
    "#     + level_points(row.sodium_100g, sodium_level_points)\n",
    "#     fvn_points = level_points(row.fruits_vegetables_nuts_100g, fruits_vegetables_nuts_level_points)\n",
    "#     fiber_points = level_points(row.fiber_100g, fiber_level_points)\n",
    "#     C_points = fvn_points + fiber_points\n",
    "#     + level_points(row.proteins_100g, proteins_level_points)\n",
    "#     if A_points < 11:\n",
    "#         score = A_points - C_points\n",
    "#     else:\n",
    "#         if level_points(row.fruits_vegetables_nuts_100g, fruits_vegetables_nuts_level_points) < 5:\n",
    "#             score = A_points - (fvn_points + fiber_points)\n",
    "#         else:\n",
    "#             score = A_points - C_points\n",
    "#     return score\n",
    "\n",
    "# for row in data_4.iloc[1:20,:].itertuples():\n",
    "#     print(f'Score: {row.nutrition_score_uk_100g}')\n",
    "#     print(f'Calcul : {calculate_nutrition_score_uk(row)}')\n",
    "#     print('-------------------')\n",
    "# def nutriscore_columns(dataframe):\n",
    "#     for row in dataframe.itertuples():\n",
    "#         row"
   ]
  },
  {
   "cell_type": "markdown",
   "metadata": {},
   "source": [
    "# Apprentissage non supervisé"
   ]
  },
  {
   "cell_type": "code",
   "execution_count": null,
   "metadata": {},
   "outputs": [],
   "source": [
    "clean_df.dtypes\n",
    "not_float_columns = ['brands', 'nutrition_grade_fr', 'countries_fr', 'pnns_groups_1', 'labels_fr', 'allergens', 'palm_oil']\n",
    "first_ingredient_columns = ['energy_100g', 'proteins_100g', 'salt_100g', 'sodium_100g', 'sugars_100g', 'fat_100g']"
   ]
  },
  {
   "cell_type": "code",
   "execution_count": null,
   "metadata": {},
   "outputs": [],
   "source": [
    "X = clean_df[clean_df.pnns_groups_1.notnull()][first_ingredient_columns]"
   ]
  },
  {
   "cell_type": "code",
   "execution_count": null,
   "metadata": {},
   "outputs": [],
   "source": [
    "X.head()"
   ]
  },
  {
   "cell_type": "code",
   "execution_count": null,
   "metadata": {},
   "outputs": [],
   "source": [
    "inertia = []\n",
    "K_range = range(1, 20)\n",
    "for k in K_range:\n",
    "    model = KMeans(n_clusters=k).fit(X)\n",
    "    inertia.append(model.inertia_)"
   ]
  },
  {
   "cell_type": "code",
   "execution_count": null,
   "metadata": {},
   "outputs": [],
   "source": [
    "plt.plot(K_range, inertia)\n",
    "plt.xlabel('Nombre de clusters')\n",
    "plt.ylabel('Cout du modèle (Inertia)')"
   ]
  },
  {
   "cell_type": "markdown",
   "metadata": {},
   "source": [
    "## 3 clusters"
   ]
  },
  {
   "cell_type": "code",
   "execution_count": null,
   "metadata": {},
   "outputs": [],
   "source": [
    "model = KMeans(n_clusters=3, n_init=10, max_iter=200)\n",
    "model.fit(X)"
   ]
  },
  {
   "cell_type": "code",
   "execution_count": null,
   "metadata": {},
   "outputs": [],
   "source": [
    "cluster_0 = X[model.predict(X) == 0]"
   ]
  },
  {
   "cell_type": "code",
   "execution_count": null,
   "metadata": {},
   "outputs": [],
   "source": [
    "cluster_0"
   ]
  },
  {
   "cell_type": "code",
   "execution_count": null,
   "metadata": {},
   "outputs": [],
   "source": [
    "cluster_0 = X[model.predict(X) == 0].index\n",
    "cluster_1 = X[model.predict(X) == 1].index\n",
    "cat_2 = X[model.predict(X) == 2].index"
   ]
  },
  {
   "cell_type": "markdown",
   "metadata": {},
   "source": [
    "### 1ère catégorie"
   ]
  },
  {
   "cell_type": "code",
   "execution_count": null,
   "metadata": {},
   "outputs": [],
   "source": [
    "clean_df[clean_df.index.isin(cat_0)].pnns_groups_1.value_counts()"
   ]
  },
  {
   "cell_type": "code",
   "execution_count": null,
   "metadata": {},
   "outputs": [],
   "source": [
    "start_work_df[start_work_df.index.isin(cat_0)].pnns_groups_1.value_counts()"
   ]
  },
  {
   "cell_type": "code",
   "execution_count": null,
   "metadata": {},
   "outputs": [],
   "source": [
    "#clean_df[clean_df.index.isin(cat_0)].nutrition_grade_fr.value_counts()"
   ]
  },
  {
   "cell_type": "markdown",
   "metadata": {},
   "source": [
    "### 2ème catégorie"
   ]
  },
  {
   "cell_type": "code",
   "execution_count": null,
   "metadata": {},
   "outputs": [],
   "source": [
    "clean_df[clean_df.index.isin(cat_1)].pnns_groups_1.value_counts()"
   ]
  },
  {
   "cell_type": "code",
   "execution_count": null,
   "metadata": {},
   "outputs": [],
   "source": [
    "#clean_df[clean_df.index.isin(cat_1)].nutrition_grade_fr.value_counts()"
   ]
  },
  {
   "cell_type": "markdown",
   "metadata": {},
   "source": [
    "### 3ème catégorie"
   ]
  },
  {
   "cell_type": "code",
   "execution_count": null,
   "metadata": {},
   "outputs": [],
   "source": [
    "clean_df[clean_df.index.isin(cat_2)].pnns_groups_1.value_counts()"
   ]
  },
  {
   "cell_type": "code",
   "execution_count": null,
   "metadata": {},
   "outputs": [],
   "source": [
    "#clean_df[clean_df.index.isin(cat_2)].nutrition_grade_fr.value_counts()"
   ]
  },
  {
   "cell_type": "markdown",
   "metadata": {},
   "source": [
    "## 4 clusters"
   ]
  },
  {
   "cell_type": "code",
   "execution_count": null,
   "metadata": {},
   "outputs": [],
   "source": [
    "model = KMeans(n_clusters=4, n_init=10, max_iter=200)\n",
    "model.fit(X)"
   ]
  },
  {
   "cell_type": "code",
   "execution_count": null,
   "metadata": {},
   "outputs": [],
   "source": [
    "cat4_0 = X[model.predict(X) == 0].index\n",
    "cat4_1 = X[model.predict(X) == 1].index\n",
    "cat4_2 = X[model.predict(X) == 2].index\n",
    "cat4_3 = X[model.predict(X) == 3].index"
   ]
  },
  {
   "cell_type": "markdown",
   "metadata": {},
   "source": [
    "### 1"
   ]
  },
  {
   "cell_type": "code",
   "execution_count": null,
   "metadata": {},
   "outputs": [],
   "source": [
    "clean_df[clean_df.index.isin(cat4_0)].pnns_groups_1.value_counts()"
   ]
  },
  {
   "cell_type": "code",
   "execution_count": null,
   "metadata": {},
   "outputs": [],
   "source": [
    "clean_df[clean_df.index.isin(cat4_0)].nutrition_grade_fr.value_counts()"
   ]
  },
  {
   "cell_type": "markdown",
   "metadata": {},
   "source": [
    "### 2"
   ]
  },
  {
   "cell_type": "code",
   "execution_count": null,
   "metadata": {},
   "outputs": [],
   "source": [
    "clean_df[clean_df.index.isin(cat4_1)].pnns_groups_1.value_counts()"
   ]
  },
  {
   "cell_type": "code",
   "execution_count": null,
   "metadata": {},
   "outputs": [],
   "source": [
    "clean_df[clean_df.index.isin(cat4_1)].nutrition_grade_fr.value_counts()"
   ]
  },
  {
   "cell_type": "markdown",
   "metadata": {},
   "source": [
    "### 3"
   ]
  },
  {
   "cell_type": "code",
   "execution_count": null,
   "metadata": {},
   "outputs": [],
   "source": [
    "clean_df[clean_df.index.isin(cat4_2)].pnns_groups_1.value_counts()"
   ]
  },
  {
   "cell_type": "code",
   "execution_count": null,
   "metadata": {},
   "outputs": [],
   "source": [
    "clean_df[clean_df.index.isin(cat4_2)].nutrition_grade_fr.value_counts()"
   ]
  },
  {
   "cell_type": "markdown",
   "metadata": {},
   "source": [
    "### 4"
   ]
  },
  {
   "cell_type": "code",
   "execution_count": null,
   "metadata": {},
   "outputs": [],
   "source": [
    "clean_df[clean_df.index.isin(cat4_3)].pnns_groups_1.value_counts()"
   ]
  },
  {
   "cell_type": "code",
   "execution_count": null,
   "metadata": {},
   "outputs": [],
   "source": [
    "clean_df[clean_df.index.isin(cat4_3)].nutrition_grade_fr.value_counts()"
   ]
  },
  {
   "cell_type": "markdown",
   "metadata": {
    "tags": []
   },
   "source": [
    "## 5 clusters"
   ]
  },
  {
   "cell_type": "code",
   "execution_count": null,
   "metadata": {},
   "outputs": [],
   "source": [
    "model = KMeans(n_clusters=5, n_init=10, max_iter=200)\n",
    "model.fit(X)"
   ]
  },
  {
   "cell_type": "code",
   "execution_count": null,
   "metadata": {},
   "outputs": [],
   "source": [
    "cat5_0 = X[model.predict(X) == 0].index\n",
    "cat5_1 = X[model.predict(X) == 1].index\n",
    "cat5_2 = X[model.predict(X) == 2].index\n",
    "cat5_3 = X[model.predict(X) == 3].index\n",
    "cat5_4 = X[model.predict(X) == 4].index"
   ]
  },
  {
   "cell_type": "markdown",
   "metadata": {},
   "source": [
    "### 1"
   ]
  },
  {
   "cell_type": "code",
   "execution_count": null,
   "metadata": {},
   "outputs": [],
   "source": [
    "clean_df[clean_df.index.isin(cat5_0)].pnns_groups_1.value_counts()"
   ]
  },
  {
   "cell_type": "code",
   "execution_count": null,
   "metadata": {},
   "outputs": [],
   "source": [
    "clean_df[clean_df.index.isin(cat5_0)].nutrition_grade_fr.value_counts()"
   ]
  },
  {
   "cell_type": "markdown",
   "metadata": {},
   "source": [
    "### 2"
   ]
  },
  {
   "cell_type": "code",
   "execution_count": null,
   "metadata": {},
   "outputs": [],
   "source": [
    "clean_df[clean_df.index.isin(cat5_1)].pnns_groups_1.value_counts()"
   ]
  },
  {
   "cell_type": "code",
   "execution_count": null,
   "metadata": {},
   "outputs": [],
   "source": [
    "clean_df[clean_df.index.isin(cat5_1)].nutrition_grade_fr.value_counts()"
   ]
  },
  {
   "cell_type": "markdown",
   "metadata": {},
   "source": [
    "### 3"
   ]
  },
  {
   "cell_type": "code",
   "execution_count": null,
   "metadata": {},
   "outputs": [],
   "source": [
    "clean_df[clean_df.index.isin(cat5_2)].pnns_groups_1.value_counts()"
   ]
  },
  {
   "cell_type": "code",
   "execution_count": null,
   "metadata": {},
   "outputs": [],
   "source": [
    "clean_df[clean_df.index.isin(cat5_2)].nutrition_grade_fr.value_counts()"
   ]
  },
  {
   "cell_type": "markdown",
   "metadata": {},
   "source": [
    "### 4"
   ]
  },
  {
   "cell_type": "code",
   "execution_count": null,
   "metadata": {},
   "outputs": [],
   "source": [
    "clean_df[clean_df.index.isin(cat5_3)].pnns_groups_1.value_counts()"
   ]
  },
  {
   "cell_type": "code",
   "execution_count": null,
   "metadata": {},
   "outputs": [],
   "source": [
    "clean_df[clean_df.index.isin(cat5_3)].nutrition_grade_fr.value_counts()"
   ]
  },
  {
   "cell_type": "markdown",
   "metadata": {},
   "source": [
    "### 5"
   ]
  },
  {
   "cell_type": "code",
   "execution_count": null,
   "metadata": {},
   "outputs": [],
   "source": [
    "clean_df[clean_df.index.isin(cat5_4)].pnns_groups_1.value_counts()"
   ]
  },
  {
   "cell_type": "code",
   "execution_count": null,
   "metadata": {},
   "outputs": [],
   "source": [
    "clean_df[clean_df.index.isin(cat5_4)].nutrition_grade_fr.value_counts()"
   ]
  },
  {
   "cell_type": "code",
   "execution_count": null,
   "metadata": {},
   "outputs": [],
   "source": [
    "clean_df.shape"
   ]
  },
  {
   "cell_type": "code",
   "execution_count": null,
   "metadata": {},
   "outputs": [],
   "source": []
  }
 ],
 "metadata": {
  "interpreter": {
   "hash": "c9f8287da5c37ed8451c4491708a65ff54a678a22223ba08bd3e09cdf6cc24e3"
  },
  "kernelspec": {
   "display_name": "Python 3 (ipykernel)",
   "language": "python",
   "name": "python3"
  },
  "language_info": {
   "codemirror_mode": {
    "name": "ipython",
    "version": 3
   },
   "file_extension": ".py",
   "mimetype": "text/x-python",
   "name": "python",
   "nbconvert_exporter": "python",
   "pygments_lexer": "ipython3",
   "version": "3.9.7"
  }
 },
 "nbformat": 4,
 "nbformat_minor": 4
}
